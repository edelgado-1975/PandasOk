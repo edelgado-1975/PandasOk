{
  "nbformat": 4,
  "nbformat_minor": 0,
  "metadata": {
    "colab": {
      "provenance": [],
      "include_colab_link": true
    },
    "kernelspec": {
      "name": "python3",
      "display_name": "Python 3"
    }
  },
  "cells": [
    {
      "cell_type": "markdown",
      "metadata": {
        "id": "view-in-github",
        "colab_type": "text"
      },
      "source": [
        "<a href=\"https://colab.research.google.com/github/edelgado-1975/PandasOk/blob/main/03_Variables_tipo_texto.ipynb\" target=\"_parent\"><img src=\"https://colab.research.google.com/assets/colab-badge.svg\" alt=\"Open In Colab\"/></a>"
      ]
    },
    {
      "cell_type": "markdown",
      "metadata": {
        "id": "vJbfLRXNwBv-"
      },
      "source": [
        "# Cómo trabajar con variables tipo texto en Pandas"
      ]
    },
    {
      "cell_type": "markdown",
      "metadata": {
        "id": "YP9RRwddEVRH"
      },
      "source": [
        "Pandas cuenta con una gran funcionalidad a la hora de interactuar con texto, es super versatil si estas interesado en crear modelos de análisis de lenguaje natural.\n",
        "\n",
        "Cuando queremos manejar texto utilizamos la función **.str** y con esta podemos concatenar otros métodos para **hacer mayúsculas o minúsculas todo el texto**, y otras funcionalidades. Podemos **contar los caracteres **del string o **separar por palabras**. Tambien podemos **buscar coincidencias** y **crear filtros**. Inclusive podemos utilizar **expresiones regulares** para realizar busquedas mas complejas y exhaustivas.\n",
        "\n",
        "Comencemos cargando nuestra librería y creando un diccionario con nombres de personas."
      ]
    },
    {
      "cell_type": "code",
      "metadata": {
        "id": "KeKtN8ipv5SW"
      },
      "source": [
        "import pandas as pd\n",
        "data = {'names':['Sara Moreno 34',\n",
        "                 'jUAn GOMez 23',\n",
        "                 'CArlos mArtinez 89',\n",
        "                 'Alfredo VelaZques 3',\n",
        "                 'luis Mora 56',\n",
        "                 '@freddier #platzi 10',pd.NA]}"
      ],
      "execution_count": 1,
      "outputs": []
    },
    {
      "cell_type": "markdown",
      "metadata": {
        "id": "R6afABWAE2Mn"
      },
      "source": [
        "Usemos los datos del diccionario para crear nuestro DataFrame. Nuestro DataFrame contiene una columna tipo texto, con variedades de caracteres especiales, números, mayúsculas e inclusive variables nulas."
      ]
    },
    {
      "cell_type": "code",
      "metadata": {
        "id": "Ol97mpk-Evs8"
      },
      "source": [
        "df = pd.DataFrame(data)\n",
        "df"
      ],
      "execution_count": null,
      "outputs": []
    },
    {
      "cell_type": "markdown",
      "metadata": {
        "id": "VsRQnQB_FBKY"
      },
      "source": [
        "Para usar las funciones asociadas a texto usamos **str** en nuestro DataFrame, por ejemplo, si se quiere colocar el texto en minúscula, basta con escribir:"
      ]
    },
    {
      "cell_type": "code",
      "metadata": {
        "id": "0z1WXfINE4fj"
      },
      "source": [
        "df['names'].str.lower()"
      ],
      "execution_count": null,
      "outputs": []
    },
    {
      "cell_type": "markdown",
      "metadata": {
        "id": "l0asIW-fFOOR"
      },
      "source": [
        "Para mayúsculas igualmente:"
      ]
    },
    {
      "cell_type": "code",
      "metadata": {
        "id": "-piMKxf5FEAu"
      },
      "source": [
        "df['names'].str.upper()"
      ],
      "execution_count": null,
      "outputs": []
    },
    {
      "cell_type": "markdown",
      "metadata": {
        "id": "3o3ngHoDFgpL"
      },
      "source": [
        "O si queremos solo la primera letra en mayúscula:"
      ]
    },
    {
      "cell_type": "code",
      "metadata": {
        "id": "oDVyeh8nFP7Y"
      },
      "source": [
        "df['names'].str.capitalize()"
      ],
      "execution_count": null,
      "outputs": []
    },
    {
      "cell_type": "markdown",
      "metadata": {
        "id": "ZzmtNbHGFmlh"
      },
      "source": [
        "Para contar la longitud de nuestro texto usamos:"
      ]
    },
    {
      "cell_type": "code",
      "metadata": {
        "id": "I9K39RYlFiLF"
      },
      "source": [
        "df['names'].str.len()"
      ],
      "execution_count": null,
      "outputs": []
    },
    {
      "cell_type": "markdown",
      "metadata": {
        "id": "N207vqhdFtEt"
      },
      "source": [
        "Para dividir el texto por espacios usamos **split** y definimos el carácter por el que queremos dividir, en este caso, un espacio vacío ' '  o **'#'**:"
      ]
    },
    {
      "cell_type": "code",
      "metadata": {
        "id": "LSErks1pFoLS"
      },
      "source": [
        "df['names'].str.split(' ')"
      ],
      "execution_count": null,
      "outputs": []
    },
    {
      "cell_type": "code",
      "metadata": {
        "id": "muNwpHg5F1w3"
      },
      "source": [
        "df['names'].str.split('#')"
      ],
      "execution_count": null,
      "outputs": []
    },
    {
      "cell_type": "markdown",
      "metadata": {
        "id": "plJs8qmjF_v_"
      },
      "source": [
        "Para seleccionar los primeros o últimos 5 caracteres usamos:"
      ]
    },
    {
      "cell_type": "code",
      "metadata": {
        "id": "ndh6k6JvF6sc"
      },
      "source": [
        "df['names'].str[:5]"
      ],
      "execution_count": null,
      "outputs": []
    },
    {
      "cell_type": "code",
      "metadata": {
        "id": "V1SSX2aSGCAR"
      },
      "source": [
        "df['names'].str[-5:]"
      ],
      "execution_count": null,
      "outputs": []
    },
    {
      "cell_type": "markdown",
      "metadata": {
        "id": "lVl_csvqGVVE"
      },
      "source": [
        "Podemos reemplazar una secuencia de caracteres por otra mediante:"
      ]
    },
    {
      "cell_type": "code",
      "metadata": {
        "id": "pf0NnTr9GEQG"
      },
      "source": [
        "df['names'].str.replace('Alfredo','Antonio')"
      ],
      "execution_count": null,
      "outputs": []
    },
    {
      "cell_type": "markdown",
      "metadata": {
        "id": "_kNS9t9AGopb"
      },
      "source": [
        "También podemos buscar una secuencia de texto en específico, en este caso, **'ara'**:"
      ]
    },
    {
      "cell_type": "code",
      "metadata": {
        "id": "CUOIJzkFGXGg"
      },
      "source": [
        "df['names'].str.findall('ara')"
      ],
      "execution_count": null,
      "outputs": []
    },
    {
      "cell_type": "markdown",
      "metadata": {
        "id": "0fuHhWkuGvmv"
      },
      "source": [
        "También podemos crear un filtro basándonos en una secuencia de texto en\n",
        "específico, en este caso, las filas que tengan **'or'**:"
      ]
    },
    {
      "cell_type": "code",
      "metadata": {
        "id": "O5xtgEUQGshu"
      },
      "source": [
        "df['names'].str.contains('or')"
      ],
      "execution_count": null,
      "outputs": []
    },
    {
      "cell_type": "markdown",
      "metadata": {
        "id": "nSYMTRczG5qj"
      },
      "source": [
        "Así mismo, podemos contar el número de ocurrencias de un caracter en específico, por ejemplo, cuántas veces aparece la letra **'a'**:"
      ]
    },
    {
      "cell_type": "code",
      "metadata": {
        "id": "VCLmO-BuGz9F"
      },
      "source": [
        "df['names'].str.lower().str.count('a')"
      ],
      "execution_count": null,
      "outputs": []
    },
    {
      "cell_type": "markdown",
      "metadata": {
        "id": "3wS05VlqHfnU"
      },
      "source": [
        "Existen comandos más avanzados usando **Regex (Expresiones Regulares)**, por ejemplo, si quiero extraer los caracteres numéricos:"
      ]
    },
    {
      "cell_type": "code",
      "metadata": {
        "id": "xRcsnCFCG-NL"
      },
      "source": [
        "df['names'].str.extract('([0-9]+)', expand=False)"
      ],
      "execution_count": null,
      "outputs": []
    },
    {
      "cell_type": "markdown",
      "metadata": {
        "id": "w_biKjHsHp8Q"
      },
      "source": [
        "O, por ejemplo, si quiero extraer las menciones **'@xxxx'** del texto:"
      ]
    },
    {
      "cell_type": "code",
      "metadata": {
        "id": "TSMbJ3PxHnF6"
      },
      "source": [
        "df['names'].str.replace('@[^\\s]+','')"
      ],
      "execution_count": null,
      "outputs": []
    }
  ]
}