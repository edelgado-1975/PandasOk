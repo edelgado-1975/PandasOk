{
  "nbformat": 4,
  "nbformat_minor": 0,
  "metadata": {
    "colab": {
      "provenance": [],
      "authorship_tag": "ABX9TyME9QiZKkdwgnlCULE2ysmy",
      "include_colab_link": true
    },
    "kernelspec": {
      "name": "python3",
      "display_name": "Python 3"
    },
    "language_info": {
      "name": "python"
    }
  },
  "cells": [
    {
      "cell_type": "markdown",
      "metadata": {
        "id": "view-in-github",
        "colab_type": "text"
      },
      "source": [
        "<a href=\"https://colab.research.google.com/github/edelgado-1975/PandasOk/blob/main/Trabajo%20en%20clase%20Ciencia%20de%20Datos.ipynb\" target=\"_parent\"><img src=\"https://colab.research.google.com/assets/colab-badge.svg\" alt=\"Open In Colab\"/></a>"
      ]
    },
    {
      "cell_type": "markdown",
      "source": [
        "**Trabajo en Clase de Python Vs Ciencia de Datos**"
      ],
      "metadata": {
        "id": "akZPLtdWS9SQ"
      }
    },
    {
      "cell_type": "code",
      "execution_count": null,
      "metadata": {
        "id": "ETIEX4P4S8Pl"
      },
      "outputs": [],
      "source": [
        "import pandas as pd"
      ]
    },
    {
      "cell_type": "markdown",
      "source": [
        "ANTES QUE NADA CONSTRUIR EL DATAFRAME\n",
        "\n",
        "Crear un DataFrame con Python\n",
        "1) Diccionario de listas (columna por columna)"
      ],
      "metadata": {
        "id": "LydnWqKpT8rk"
      }
    },
    {
      "cell_type": "code",
      "source": [],
      "metadata": {
        "id": "3DIH9XdAS-ES"
      },
      "execution_count": null,
      "outputs": []
    }
  ]
}