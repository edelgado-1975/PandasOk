{
  "nbformat": 4,
  "nbformat_minor": 0,
  "metadata": {
    "colab": {
      "provenance": [],
      "include_colab_link": true
    },
    "kernelspec": {
      "name": "python3",
      "display_name": "Python 3"
    },
    "language_info": {
      "name": "python"
    }
  },
  "cells": [
    {
      "cell_type": "markdown",
      "metadata": {
        "id": "view-in-github",
        "colab_type": "text"
      },
      "source": [
        "<a href=\"https://colab.research.google.com/github/edelgado-1975/PandasOk/blob/main/Trabajo%20en%20clase%20Ciencia%20de%20Datos.ipynb\" target=\"_parent\"><img src=\"https://colab.research.google.com/assets/colab-badge.svg\" alt=\"Open In Colab\"/></a>"
      ]
    },
    {
      "cell_type": "markdown",
      "source": [
        "**Trabajo en Clase de Python Vs Ciencia de Datos**"
      ],
      "metadata": {
        "id": "akZPLtdWS9SQ"
      }
    },
    {
      "cell_type": "code",
      "execution_count": null,
      "metadata": {
        "id": "ETIEX4P4S8Pl"
      },
      "outputs": [],
      "source": [
        "import pandas as pd"
      ]
    },
    {
      "cell_type": "markdown",
      "source": [
        "ANTES QUE NADA CONSTRUIR EL DATAFRAME\n",
        "\n",
        "Crear un DataFrame con Python\n",
        "1) Diccionario de listas (columna por columna)"
      ],
      "metadata": {
        "id": "LydnWqKpT8rk"
      }
    },
    {
      "cell_type": "code",
      "source": [
        "football_dict = {\n",
        "    \"player\": [\"Lionel Messi\", \"Cristiano Ronaldo\"],\n",
        "    \"year\": [2016, 2016],\n",
        "    \"goals\": [37, 25],\n",
        "}\n",
        "football_stats = pd.DataFrame(football_dict)\n",
        "print(football_stats)"
      ],
      "metadata": {
        "id": "3DIH9XdAS-ES"
      },
      "execution_count": null,
      "outputs": []
    },
    {
      "cell_type": "markdown",
      "source": [
        "2) Lista de diccionarios (fila por fila)"
      ],
      "metadata": {
        "id": "pElEpbk1ZnUd"
      }
    },
    {
      "cell_type": "code",
      "source": [
        "football_list = [\n",
        "    {\"player\": \"Lionel Messi\", \"year\": 2016, \"goals\": 37},\n",
        "    {\"player\": \"Cristiano Ronaldo\", \"year\": 2016, \"goals\": 25},\n",
        "]\n",
        "football_stats = pd.DataFrame(football_list)\n",
        "print(football_stats)"
      ],
      "metadata": {
        "id": "nbndQD4XZooc"
      },
      "execution_count": null,
      "outputs": []
    },
    {
      "cell_type": "markdown",
      "source": [
        "**IMPORTAR DATOS**\n",
        "\n",
        "> Agregar bloque entrecomillado\n",
        "\n",
        "\n",
        "Base de datos\n",
        "Usaremos una base de datos de las 5 ligas top de Europa entre los años 2014 y 2020.\n",
        "\n",
        "Fuente: [Kaggle](https://www.kaggle.com/shushrutsharma/top-5-football-leagues?select=Fullmetadata.csv)\n",
        "\n",
        "Se recomienda por favor crear una cuenta para poder descargar los datos\n",
        "\n",
        "Importar csv\n",
        "pd.read_csv('path/file.csv')"
      ],
      "metadata": {
        "id": "7sGfzhSIZ3Fv"
      }
    },
    {
      "cell_type": "code",
      "source": [
        "df = pd.read_csv('sample_data/Fullmetadata.csv')\n",
        "print(df)\n",
        "\n",
        "#df2 = pd.read_csv('sample_data/FullShotsData.csv')\n",
        "#print(df2)"
      ],
      "metadata": {
        "id": "1S1NKHOmZ71f"
      },
      "execution_count": null,
      "outputs": []
    },
    {
      "cell_type": "markdown",
      "source": [
        "**TENGA EN CUENTA QUE SE PUEDE...**\n",
        "Importar con una columna como índice"
      ],
      "metadata": {
        "id": "5Sjjdt-pcoE9"
      }
    },
    {
      "cell_type": "code",
      "source": [
        "df = pd.read_csv('sample_data/FullShotsData.csv', index_col='player')\n",
        "print(df)"
      ],
      "metadata": {
        "id": "okDk4GRVb5Oc"
      },
      "execution_count": null,
      "outputs": []
    },
    {
      "cell_type": "code",
      "source": [
        "df = pd.read_csv('sample_data/FullShotsData.csv', index_col='player_id')\n",
        "df"
      ],
      "metadata": {
        "id": "4J_pH5cgcnRC"
      },
      "execution_count": null,
      "outputs": []
    },
    {
      "cell_type": "markdown",
      "source": [
        "**Para Inspeccionar un DataFrame por favor use las siguientes herramientas:**\n",
        "\n",
        "1. df.head() → retorna las 5 primeras filas. También le puedes pasar un entero como parámetro y te devolverá esa cantidad de primeras filas.\n",
        "2. df.tail() → retorna las últimas 5 filas del dataset.\n",
        "3. df.sample() → es parecido a los 2 anteriores, pero este tomará muestras al azar del DataFrame.\n",
        "df.shape → retorna las filas y columnas que tiene el DataFrame.\n",
        "4. df.size → multiplica las filas y columnas y te da el total de datos del DataFrame.\n",
        "5. df.info() → este es genial, te da la cuenta de valores no nulos, el tipo de dato de cada columna (recuerda que solo puede haber un único tipo de dato por columna) y el uso de memoria. Cuando estés procesando los datos, será un gran aliado.\n",
        "6. df.describe() → te ayudará mucho con las primeras impresiones de los datos. Calcula algunas estadísticas descriptivas para cada columna."
      ],
      "metadata": {
        "id": "POTadgq6ds03"
      }
    },
    {
      "cell_type": "code",
      "source": [
        "print(df.sample(3))"
      ],
      "metadata": {
        "id": "b3sfLIbEdupJ"
      },
      "execution_count": null,
      "outputs": []
    },
    {
      "cell_type": "code",
      "source": [
        "print(df.shape)"
      ],
      "metadata": {
        "id": "z-lLLVSpeXuC"
      },
      "execution_count": null,
      "outputs": []
    },
    {
      "cell_type": "code",
      "source": [
        "print(df.size)"
      ],
      "metadata": {
        "id": "QbHPKuZEeYuZ"
      },
      "execution_count": null,
      "outputs": []
    },
    {
      "cell_type": "code",
      "source": [
        "print(df.info())"
      ],
      "metadata": {
        "id": "PGHBwXgrebGl"
      },
      "execution_count": null,
      "outputs": []
    },
    {
      "cell_type": "code",
      "source": [
        "df.describe()"
      ],
      "metadata": {
        "id": "i43Go0Y7egts"
      },
      "execution_count": null,
      "outputs": []
    },
    {
      "cell_type": "markdown",
      "source": [
        "**ORDENEMOS LOS DATOS**"
      ],
      "metadata": {
        "id": "PTv_DeKOejhk"
      }
    },
    {
      "cell_type": "code",
      "source": [
        "df.sort_values('player', ascending=False)"
      ],
      "metadata": {
        "id": "nHc14oonep2u"
      },
      "execution_count": null,
      "outputs": []
    },
    {
      "cell_type": "code",
      "source": [
        "print(df.sort_values(['h_team', 'h_goals'], ascending=[True, False]).head(3))"
      ],
      "metadata": {
        "id": "0_r3dhrBet0X"
      },
      "execution_count": null,
      "outputs": []
    },
    {
      "cell_type": "code",
      "source": [],
      "metadata": {
        "id": "L8NwCq7Wfg9g"
      },
      "execution_count": null,
      "outputs": []
    },
    {
      "cell_type": "markdown",
      "source": [
        "**Subconjuntos y filtros de datos**\n",
        "\n",
        "Subsetting columns(filtrar columnas)"
      ],
      "metadata": {
        "id": "3h5yim0Tfz3j"
      }
    },
    {
      "cell_type": "code",
      "source": [
        "df['h_team'].unique()"
      ],
      "metadata": {
        "id": "3vdPzaBUf2Qy"
      },
      "execution_count": null,
      "outputs": []
    },
    {
      "cell_type": "markdown",
      "source": [
        "Filtrar Filas"
      ],
      "metadata": {
        "id": "0P3St0QirAuF"
      }
    },
    {
      "cell_type": "code",
      "source": [
        "df[df.player=='Aaron Connolly']\n",
        "\n",
        "#Otras maneras de hacerlo\n",
        "#df[df['player']=='Aaron Connolly']\n",
        "#df.query('player == \"Aaron Connolly\"')"
      ],
      "metadata": {
        "id": "ykUskmWVrG63"
      },
      "execution_count": null,
      "outputs": []
    },
    {
      "cell_type": "markdown",
      "source": [
        "**VAMOS A UNIR LO QUE ESTAMOS APRENDIENDO..**"
      ],
      "metadata": {
        "id": "iDSViI-8tGYG"
      }
    },
    {
      "cell_type": "code",
      "source": [
        "# Goles de Cristiano Ronaldo en 2014\n",
        "cr7 = df[(df.player == 'Cristiano Ronaldo') & (df.year == 2014)]\n",
        "cols = ['player', 'year', 'h_goals']\n",
        "print(cr7[cols])"
      ],
      "metadata": {
        "id": "8I3pikw1tM4C"
      },
      "execution_count": null,
      "outputs": []
    },
    {
      "cell_type": "code",
      "source": [
        "# Goles de Ronaldo, Messi y Suárez en 2015\n",
        "players = ['Cristiano Ronaldo', 'Lionel Messi', 'Luis Suárez']\n",
        "top_players = df[(df.player.isin(players)) & (df.year == 2015)]\n",
        "# Muestra el DataFrame\n",
        "df\n"
      ],
      "metadata": {
        "id": "59Zle6CptzCJ"
      },
      "execution_count": null,
      "outputs": []
    },
    {
      "cell_type": "markdown",
      "source": [
        "**Subsetting con .loc**"
      ],
      "metadata": {
        "id": "Uct3sIudw98L"
      }
    },
    {
      "cell_type": "code",
      "source": [
        "# Goles de Ronaldo, Messi y Suárez en 2015\n",
        "df = df.reset_index()\n",
        "df = df.set_index('player')\n",
        "players = ['Cristiano Ronaldo', 'Lionel Messi', 'Luis Suárez']\n",
        "cols = ['year', 'h_goals']\n",
        "top_players = df.loc[players, cols]\n",
        "result = top_players.query('year == 2015').groupby(level=0).sum()\n",
        "result.index.name = 'player_name'\n",
        "print(result)"
      ],
      "metadata": {
        "id": "nz1wF2e3wjyD"
      },
      "execution_count": null,
      "outputs": []
    },
    {
      "cell_type": "code",
      "source": [],
      "metadata": {
        "id": "p-5L8uxxw6be"
      },
      "execution_count": null,
      "outputs": []
    }
  ]
}