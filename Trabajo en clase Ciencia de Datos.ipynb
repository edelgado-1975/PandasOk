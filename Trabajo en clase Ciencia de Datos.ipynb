{
  "nbformat": 4,
  "nbformat_minor": 0,
  "metadata": {
    "colab": {
      "provenance": [],
      "authorship_tag": "ABX9TyPDkl8mHChPYNhL0SHfq+tS",
      "include_colab_link": true
    },
    "kernelspec": {
      "name": "python3",
      "display_name": "Python 3"
    },
    "language_info": {
      "name": "python"
    }
  },
  "cells": [
    {
      "cell_type": "markdown",
      "metadata": {
        "id": "view-in-github",
        "colab_type": "text"
      },
      "source": [
        "<a href=\"https://colab.research.google.com/github/edelgado-1975/PandasOk/blob/main/Trabajo%20en%20clase%20Ciencia%20de%20Datos.ipynb\" target=\"_parent\"><img src=\"https://colab.research.google.com/assets/colab-badge.svg\" alt=\"Open In Colab\"/></a>"
      ]
    },
    {
      "cell_type": "markdown",
      "source": [
        "**Trabajo en Clase de Python Vs Ciencia de Datos**"
      ],
      "metadata": {
        "id": "akZPLtdWS9SQ"
      }
    },
    {
      "cell_type": "code",
      "execution_count": 3,
      "metadata": {
        "id": "ETIEX4P4S8Pl"
      },
      "outputs": [],
      "source": [
        "import pandas as pd"
      ]
    },
    {
      "cell_type": "markdown",
      "source": [
        "ANTES QUE NADA CONSTRUIR EL DATAFRAME\n",
        "\n",
        "Crear un DataFrame con Python\n",
        "1) Diccionario de listas (columna por columna)"
      ],
      "metadata": {
        "id": "LydnWqKpT8rk"
      }
    },
    {
      "cell_type": "code",
      "source": [
        "football_dict = {\n",
        "    \"player\": [\"Lionel Messi\", \"Cristiano Ronaldo\"],\n",
        "    \"year\": [2016, 2016],\n",
        "    \"goals\": [37, 25],\n",
        "}\n",
        "football_stats = pd.DataFrame(football_dict)\n",
        "print(football_stats)"
      ],
      "metadata": {
        "colab": {
          "base_uri": "https://localhost:8080/"
        },
        "id": "3DIH9XdAS-ES",
        "outputId": "cc147f1a-4b38-49b3-92e7-d1649f6b142d"
      },
      "execution_count": 4,
      "outputs": [
        {
          "output_type": "stream",
          "name": "stdout",
          "text": [
            "              player  year  goals\n",
            "0       Lionel Messi  2016     37\n",
            "1  Cristiano Ronaldo  2016     25\n"
          ]
        }
      ]
    },
    {
      "cell_type": "markdown",
      "source": [
        "2) Lista de diccionarios (fila por fila)"
      ],
      "metadata": {
        "id": "pElEpbk1ZnUd"
      }
    },
    {
      "cell_type": "code",
      "source": [
        "football_list = [\n",
        "    {\"player\": \"Lionel Messi\", \"year\": 2016, \"goals\": 37},\n",
        "    {\"player\": \"Cristiano Ronaldo\", \"year\": 2016, \"goals\": 25},\n",
        "]\n",
        "football_stats = pd.DataFrame(football_list)\n",
        "print(football_stats)"
      ],
      "metadata": {
        "colab": {
          "base_uri": "https://localhost:8080/"
        },
        "id": "nbndQD4XZooc",
        "outputId": "3022852d-a03a-414d-c20b-12413cb5e9d1"
      },
      "execution_count": 5,
      "outputs": [
        {
          "output_type": "stream",
          "name": "stdout",
          "text": [
            "              player  year  goals\n",
            "0       Lionel Messi  2016     37\n",
            "1  Cristiano Ronaldo  2016     25\n"
          ]
        }
      ]
    },
    {
      "cell_type": "markdown",
      "source": [
        "**IMPORTAR DATOS**\n",
        "\n",
        "> Agregar bloque entrecomillado\n",
        "\n",
        "\n",
        "Base de datos\n",
        "Usaremos una base de datos de las 5 ligas top de Europa entre los años 2014 y 2020.\n",
        "\n",
        "Fuente: [Kaggle](https://www.kaggle.com/shushrutsharma/top-5-football-leagues?select=Fullmetadata.csv)\n",
        "\n",
        "Se recomienda por favor crear una cuenta para poder descargar los datos\n",
        "\n",
        "Importar csv\n",
        "pd.read_csv('path/file.csv')"
      ],
      "metadata": {
        "id": "7sGfzhSIZ3Fv"
      }
    },
    {
      "cell_type": "code",
      "source": [
        "df = pd.read_csv('sample_data/Fullmetadata.csv')\n",
        "print(df)"
      ],
      "metadata": {
        "id": "1S1NKHOmZ71f"
      },
      "execution_count": null,
      "outputs": []
    },
    {
      "cell_type": "code",
      "source": [],
      "metadata": {
        "id": "Zi7fzj35aosp"
      },
      "execution_count": null,
      "outputs": []
    }
  ]
}