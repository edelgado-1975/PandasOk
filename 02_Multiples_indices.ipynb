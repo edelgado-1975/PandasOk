{
  "nbformat": 4,
  "nbformat_minor": 0,
  "metadata": {
    "colab": {
      "provenance": [],
      "include_colab_link": true
    },
    "kernelspec": {
      "name": "python3",
      "display_name": "Python 3"
    }
  },
  "cells": [
    {
      "cell_type": "markdown",
      "metadata": {
        "id": "view-in-github",
        "colab_type": "text"
      },
      "source": [
        "<a href=\"https://colab.research.google.com/github/edelgado-1975/PandasOk/blob/main/02_Multiples_indices.ipynb\" target=\"_parent\"><img src=\"https://colab.research.google.com/assets/colab-badge.svg\" alt=\"Open In Colab\"/></a>"
      ]
    },
    {
      "cell_type": "markdown",
      "metadata": {
        "id": "XMBS7yy4rzyo"
      },
      "source": [
        "# Multiples indices\n",
        "\n",
        "En esta seccion aprende a como trabajar un dataframe con multiples indices.\n",
        "\n",
        "Un indice es un artificio en pandas que nos permite en pandas encontrar la ubicacion de un archivo o dato. Son las coordenadas en una dataframe.\n",
        "\n",
        "La ventajas de utilizar multiples indices es que podemos aplicar funciones matematicas en diversos niveles."
      ]
    },
    {
      "cell_type": "markdown",
      "metadata": {
        "id": "tyNUjMevsQD9"
      },
      "source": [
        "Buscamos nuestro dataset descargado de [world bank](https://data.worldbank.org/). El mismo lo llamaremos [population.csv](https://data.worldbank.org/indicator/SP.POP.TOTL)."
      ]
    },
    {
      "cell_type": "code",
      "metadata": {
        "id": "mRjQQqP3XI4g",
        "colab": {
          "base_uri": "https://localhost:8080/"
        },
        "outputId": "9939437c-ec54-405c-dd7e-e4fa79cfc79f"
      },
      "source": [
        "from google.colab import drive\n",
        "drive.mount('/content/drive/')"
      ],
      "execution_count": null,
      "outputs": [
        {
          "output_type": "stream",
          "name": "stdout",
          "text": [
            "Mounted at /content/drive/\n"
          ]
        }
      ]
    },
    {
      "cell_type": "code",
      "metadata": {
        "id": "3HZmqdyMZ_4U"
      },
      "source": [
        "%cd '/content/drive/My Drive/Colab Notebooks/CienciaDataAplicadaEJDA/'\n",
        "!ls"
      ],
      "execution_count": null,
      "outputs": []
    },
    {
      "cell_type": "markdown",
      "metadata": {
        "id": "PTCcrEUCsbta"
      },
      "source": [
        "Empezamos a trabajar con el dataset"
      ]
    },
    {
      "cell_type": "code",
      "metadata": {
        "id": "qjxyv9LyaC7u"
      },
      "source": [
        "import pandas as pd\n",
        "import numpy as np"
      ],
      "execution_count": null,
      "outputs": []
    },
    {
      "cell_type": "markdown",
      "metadata": {
        "id": "LRSRsxtlsezr"
      },
      "source": [
        "Hacemos un preprocesamiento y adecuamos el dataset a las necesidades el curso."
      ]
    },
    {
      "cell_type": "markdown",
      "metadata": {
        "id": "JvDoVKISbun2"
      },
      "source": [
        "Utilizo **skiprows** para saltarme las filas que no aportan valor alguno para analizar el dataframe."
      ]
    },
    {
      "cell_type": "code",
      "metadata": {
        "id": "wa-wyRFgaKDO"
      },
      "source": [
        "df_pob = pd.read_csv('poblacion.csv',\n",
        "                     skiprows=4)"
      ],
      "execution_count": null,
      "outputs": []
    },
    {
      "cell_type": "code",
      "metadata": {
        "id": "oUj054lMaY-M"
      },
      "source": [
        "df_pob"
      ],
      "execution_count": null,
      "outputs": []
    },
    {
      "cell_type": "code",
      "metadata": {
        "id": "3mhvSordcNTh"
      },
      "source": [
        "df_poblacion = df_pob.drop(columns=[\"Country Code\",\"Indicator Name\",\"Indicator Code\",\"2019\",\"Unnamed: 64\"])\n",
        "df_poblacion"
      ],
      "execution_count": null,
      "outputs": []
    },
    {
      "cell_type": "markdown",
      "metadata": {
        "id": "kFF8UeDahgDC"
      },
      "source": [
        "Utilizamos el método **.melt()** para cambiar columnas por filas y reajustar el dataframe, como se ven en el siguiente ejemplo:\n",
        "\n",
        "![alt text](https://miro.medium.com/max/700/1*KcNGMpinfFULBmqrFSI3OA@2x.png)"
      ]
    },
    {
      "cell_type": "code",
      "metadata": {
        "id": "ZDlh5FA_cnXh"
      },
      "source": [
        "df_poblacion = pd.melt(df_poblacion, id_vars=[\"Country Name\"], var_name=\"year\", value_name=\"pob\")\n",
        "df_poblacion\n"
      ],
      "execution_count": null,
      "outputs": []
    },
    {
      "cell_type": "markdown",
      "metadata": {
        "id": "mnsD1cFgihPf"
      },
      "source": [
        "Especificamos el formato numerico"
      ]
    },
    {
      "cell_type": "code",
      "metadata": {
        "id": "Ovt_Gc4viIGY"
      },
      "source": [
        "pd.options.display.float_format = '{:,.1f}'.format\n",
        "df_poblacion"
      ],
      "execution_count": null,
      "outputs": []
    },
    {
      "cell_type": "markdown",
      "metadata": {
        "id": "yNOt9EjAkmDg"
      },
      "source": [
        "Ahora vemos los tipos de datos que tenemos."
      ]
    },
    {
      "cell_type": "code",
      "metadata": {
        "id": "5I-skIzPibym"
      },
      "source": [
        "df_poblacion.dtypes"
      ],
      "execution_count": null,
      "outputs": []
    },
    {
      "cell_type": "markdown",
      "metadata": {
        "id": "-tXhHmvBsmWN"
      },
      "source": [
        "Defino la variable year como  int64 para filtrar algunos años."
      ]
    },
    {
      "cell_type": "code",
      "metadata": {
        "id": "SjSdsbljp8ux"
      },
      "source": [
        "df_poblacion['year'] = df_poblacion['year'].astype(str).astype(int)"
      ],
      "execution_count": null,
      "outputs": []
    },
    {
      "cell_type": "code",
      "metadata": {
        "id": "K9HHANPCqWDN"
      },
      "source": [
        "df_poblacion.dtypes"
      ],
      "execution_count": null,
      "outputs": []
    },
    {
      "cell_type": "markdown",
      "metadata": {
        "id": "ZNl9slx8s1L4"
      },
      "source": [
        "Filtro los año a partir del 2015."
      ]
    },
    {
      "cell_type": "code",
      "metadata": {
        "id": "fF5y5Kz6pSgO"
      },
      "source": [
        "df_poblacion = df_poblacion.query('year >= 2015')\n",
        "df_poblacion"
      ],
      "execution_count": null,
      "outputs": []
    },
    {
      "cell_type": "markdown",
      "metadata": {
        "id": "UTX8PWR5kpjU"
      },
      "source": [
        "La variable year es un **int** y la queremos convertir en **categorical**, especificamente en un **string** para posterior utilizacion."
      ]
    },
    {
      "cell_type": "code",
      "metadata": {
        "id": "UQ-1IxLei79h"
      },
      "source": [
        "df_poblacion['year'] = pd.Categorical(df_poblacion['year'].apply(str))"
      ],
      "execution_count": null,
      "outputs": []
    },
    {
      "cell_type": "code",
      "metadata": {
        "id": "McbUoLXTjMdd"
      },
      "source": [
        "df_poblacion.dtypes"
      ],
      "execution_count": null,
      "outputs": []
    },
    {
      "cell_type": "code",
      "metadata": {
        "id": "Yrg9PvspkfAs"
      },
      "source": [
        "df_poblacion = df_poblacion.rename(columns={'Country Name': 'Country'})\n",
        "df_poblacion"
      ],
      "execution_count": null,
      "outputs": []
    },
    {
      "cell_type": "markdown",
      "metadata": {
        "id": "8Lh6VLbgtw-9"
      },
      "source": [
        "Filtramos dos paises para hacer pruebas."
      ]
    },
    {
      "cell_type": "code",
      "metadata": {
        "id": "a9zQyg6WpaVt"
      },
      "source": [
        "idx_filtro = df_poblacion['Country'].isin(['Argentina', 'Colombia'])\n",
        "idx_filtro"
      ],
      "execution_count": null,
      "outputs": []
    },
    {
      "cell_type": "markdown",
      "metadata": {
        "id": "fQSMNQXKt05g"
      },
      "source": [
        "Creamos un dataframe de ejemplo aparte"
      ]
    },
    {
      "cell_type": "code",
      "metadata": {
        "id": "QGbmwdxttdNr"
      },
      "source": [
        "df_sample = df_poblacion[idx_filtro]\n",
        "df_sample"
      ],
      "execution_count": null,
      "outputs": []
    },
    {
      "cell_type": "markdown",
      "metadata": {
        "id": "EzX-vBQvt68z"
      },
      "source": [
        "¿Ahora como creamos **multiples indices**?\n",
        "\n",
        "Seteamos indices con la funcion **.set_index()**. Con **.sort_index()** ordenamos nuestro dataframe, alfabeticamente y de menor a mayor."
      ]
    },
    {
      "cell_type": "code",
      "metadata": {
        "id": "ZTzRW1bbtkdS"
      },
      "source": [
        "df_sample = df_sample.set_index(['Country', 'year']).sort_index()\n",
        "df_sample"
      ],
      "execution_count": null,
      "outputs": []
    },
    {
      "cell_type": "markdown",
      "metadata": {
        "id": "p3X9fvxeucdm"
      },
      "source": [
        "La ventaja de multiples indices es que permite estructurar los datos para un mejor analisis."
      ]
    },
    {
      "cell_type": "markdown",
      "metadata": {
        "id": "79B2Z0jXun2j"
      },
      "source": [
        "Ahora si quiere seleccionar un subconjunto de datos de mi dataframe anterior lo hago de la siguiente manera:"
      ]
    },
    {
      "cell_type": "code",
      "metadata": {
        "id": "nyNihgA8uMa_"
      },
      "source": [
        "df_sample.loc['Argentina',:]"
      ],
      "execution_count": null,
      "outputs": []
    },
    {
      "cell_type": "code",
      "metadata": {
        "id": "xngw7Sr8uyHZ"
      },
      "source": [
        "df_sample.loc['Argentina',:].loc['2016',:]"
      ],
      "execution_count": null,
      "outputs": []
    },
    {
      "cell_type": "markdown",
      "metadata": {
        "id": "p62HdBiVvFcD"
      },
      "source": [
        "Otra forma de seleccionar datos multiples de un dataframe a traves de sus indices es con el metodo **.xs()**, el cual recibe una lista de valores."
      ]
    },
    {
      "cell_type": "code",
      "metadata": {
        "id": "HNQwOOscu6AQ"
      },
      "source": [
        "df_sample.xs(['Argentina', '2016'])"
      ],
      "execution_count": null,
      "outputs": []
    },
    {
      "cell_type": "markdown",
      "metadata": {
        "id": "YRK9-jP8vXmW"
      },
      "source": [
        "Hice lo mismo que antes pero es mas legible y simple."
      ]
    },
    {
      "cell_type": "markdown",
      "metadata": {
        "id": "AbR-9yN9vrm6"
      },
      "source": [
        "Ahora si quiero seleccionar datos a través de niveles lo que hago es lo siguiente:"
      ]
    },
    {
      "cell_type": "code",
      "metadata": {
        "id": "v1WD5w5qvlnU"
      },
      "source": [
        "df_sample.xs('2018', level='year')"
      ],
      "execution_count": null,
      "outputs": []
    },
    {
      "cell_type": "markdown",
      "metadata": {
        "id": "Z9Wc4Ae0v0bA"
      },
      "source": [
        "Lo que hice fue seleccionar la poblacion de los paises, pero del 2018."
      ]
    },
    {
      "cell_type": "markdown",
      "metadata": {
        "id": "g09337z-v7-H"
      },
      "source": [
        "Ahora que lo hicimos para una pequeña muestra de datos, lo haremos para todos nuestro conjunto de datos.\n",
        "\n",
        "Podemos organizar nuestros datos a traves de la funcion **ascending** del método **.sort_index()**"
      ]
    },
    {
      "cell_type": "code",
      "metadata": {
        "id": "isdSQXjBwCFN"
      },
      "source": [
        "df_countries = df_poblacion.set_index(['Country', 'year']).sort_index(ascending = [True, True])\n",
        "df_countries"
      ],
      "execution_count": null,
      "outputs": []
    },
    {
      "cell_type": "markdown",
      "metadata": {
        "id": "I2G8MNuHn5__"
      },
      "source": [
        "Lo que podemos hacer es definir una funcion para segmentar nuestro dataframe. Esto lo hacemos con **pd.IndexSlice**. La definimos con el nombre ids y la utilizamos como sigue:"
      ]
    },
    {
      "cell_type": "code",
      "metadata": {
        "id": "Pl_gbDwfwOC4"
      },
      "source": [
        "ids = pd.IndexSlice\n",
        "df_countries.loc[ids['Argentina':'Austria', '2015':'2017'], :].sort_index()"
      ],
      "execution_count": null,
      "outputs": []
    },
    {
      "cell_type": "markdown",
      "metadata": {
        "id": "R_rkdSoToat1"
      },
      "source": [
        "Tambien podemos obtener los indices del dataframe."
      ]
    },
    {
      "cell_type": "code",
      "metadata": {
        "id": "KC74G-q_nT3X"
      },
      "source": [
        "df_countries.index"
      ],
      "execution_count": null,
      "outputs": []
    },
    {
      "cell_type": "markdown",
      "metadata": {
        "id": "xeG9nVYwogV3"
      },
      "source": [
        "O podemos obtener diferentes indices si tenemos definidos mas de uno."
      ]
    },
    {
      "cell_type": "code",
      "metadata": {
        "id": "_5VXvSXnoWqf"
      },
      "source": [
        "df_countries.index.get_level_values(0)"
      ],
      "execution_count": null,
      "outputs": []
    },
    {
      "cell_type": "code",
      "metadata": {
        "id": "2VqMdE2qorst"
      },
      "source": [
        "df_countries.index.get_level_values(1)"
      ],
      "execution_count": null,
      "outputs": []
    },
    {
      "cell_type": "markdown",
      "metadata": {
        "id": "PheFZsrIpClI"
      },
      "source": [
        "Si tenemos el dataframe y tenemos multiples indices y queremos extraer un dato en especifico podemos hacerlo a través de una cadena de instrucciones."
      ]
    },
    {
      "cell_type": "code",
      "metadata": {
        "id": "jZNM479wotT7"
      },
      "source": [
        "df_countries['pob']"
      ],
      "execution_count": null,
      "outputs": []
    },
    {
      "cell_type": "code",
      "metadata": {
        "id": "WApWo0y8o4Zz"
      },
      "source": [
        "df_countries['pob']['Argentina']"
      ],
      "execution_count": null,
      "outputs": []
    },
    {
      "cell_type": "code",
      "metadata": {
        "id": "m95VKXgspNqR"
      },
      "source": [
        "df_countries['pob']['Argentina']['2018']"
      ],
      "execution_count": null,
      "outputs": []
    },
    {
      "cell_type": "markdown",
      "metadata": {
        "id": "YLp7-r8YpY-b"
      },
      "source": [
        "Algo interesante podemos hacerlo al aplicar funciones matematicas por indices, por ejemplo, queremos saber la poblacion anual MUNDIAL."
      ]
    },
    {
      "cell_type": "code",
      "metadata": {
        "id": "UPgJCH6vpQK2"
      },
      "source": [
        "df_countries.sum(level='year')"
      ],
      "execution_count": null,
      "outputs": []
    },
    {
      "cell_type": "markdown",
      "metadata": {
        "id": "RvjBIsQ0ptR5"
      },
      "source": [
        "Puedo cambiar tambien el formato del dataframe. Lo haremos con el ejemplo df_sample"
      ]
    },
    {
      "cell_type": "code",
      "metadata": {
        "id": "WYuyIbdGqDFe"
      },
      "source": [
        "df_sample"
      ],
      "execution_count": null,
      "outputs": []
    },
    {
      "cell_type": "code",
      "metadata": {
        "id": "GyoeBLPopmnx"
      },
      "source": [
        "df_sample.unstack('year')"
      ],
      "execution_count": null,
      "outputs": []
    },
    {
      "cell_type": "code",
      "metadata": {
        "id": "TmLL-tutp6II"
      },
      "source": [
        "df_sample.unstack('Country')"
      ],
      "execution_count": null,
      "outputs": []
    },
    {
      "cell_type": "markdown",
      "source": [
        "# **Pongamos en practica lo aprendido...**"
      ],
      "metadata": {
        "id": "tVOQc2sAWMqw"
      }
    },
    {
      "cell_type": "markdown",
      "source": [
        "Análisis y Conclusión\n",
        "Observa cómo se comportan las ventas de cada marca a lo largo de los años:\n",
        "\n",
        "Comparación de Marcas: Compara las ventas entre las diferentes marcas y observa cuál tiene el mayor crecimiento o declive.\n",
        "Tendencias Anuales: Analiza cómo cambian las ventas de cada marca de un año a otro. Esto puede ayudarte a identificar tendencias de mercado y la popularidad de las marcas."
      ],
      "metadata": {
        "id": "J-zq21gXWTTE"
      }
    },
    {
      "cell_type": "code",
      "source": [
        "import pandas as pd\n",
        "import numpy as np\n",
        "import matplotlib.pyplot as plt\n",
        "\n",
        "# Crear un DataFrame con múltiples índices\n",
        "index = pd.MultiIndex.from_tuples([\n",
        "    ('Enero', 'Norte'), ('Enero', 'Sur'),\n",
        "    ('Febrero', 'Norte'), ('Febrero', 'Sur'),\n",
        "    ('Marzo', 'Norte'), ('Marzo', 'Sur')\n",
        "], names=['Mes', 'Región'])\n",
        "\n",
        "data = {\n",
        "    'Ventas': [200, 150, 220, 180, 250, 190]\n",
        "}\n",
        "\n",
        "df = pd.DataFrame(data, index=index)\n",
        "print(df)\n",
        "\n",
        "# Crear la figura y los ejes\n",
        "plt.figure(figsize=(12, 6))\n",
        "\n",
        "# Extraer los datos para cada región\n",
        "for region in df.index.get_level_values('Región').unique():\n",
        "    subset = df.xs(region, level='Región')\n",
        "    plt.plot(subset.index.get_level_values('Mes'), subset['Ventas'], label=region, marker='o')\n",
        "\n",
        "# Añadir títulos y etiquetas\n",
        "plt.title('Ventas Mensuales por Región')\n",
        "plt.xlabel('Mes')\n",
        "plt.ylabel('Ventas')\n",
        "plt.legend(title='Región')\n",
        "plt.grid(True)\n",
        "plt.show()\n"
      ],
      "metadata": {
        "id": "0wJFt6scagOz",
        "outputId": "0a69a73d-94e6-42ec-f52c-be824e71a142",
        "colab": {
          "base_uri": "https://localhost:8080/",
          "height": 704
        }
      },
      "execution_count": 4,
      "outputs": [
        {
          "output_type": "stream",
          "name": "stdout",
          "text": [
            "                Ventas\n",
            "Mes     Región        \n",
            "Enero   Norte      200\n",
            "        Sur        150\n",
            "Febrero Norte      220\n",
            "        Sur        180\n",
            "Marzo   Norte      250\n",
            "        Sur        190\n"
          ]
        },
        {
          "output_type": "display_data",
          "data": {
            "text/plain": [
              "<Figure size 1200x600 with 1 Axes>"
            ],
            "image/png": "[encoded data removed]"
          },
          "metadata": {}
        }
      ]
    },
    {
      "cell_type": "markdown",
      "source": [
        "Ejercicio Adicional **(Evaluacion)**\n",
        "Para profundizar más en el análisis, puedes intentar lo siguiente: haga de cuenta que usted es vendedor de un concesionario de vehiculos de varias marcas\n",
        "\n",
        "cree el siguiente dataframe y siga adelante con el desarrollo de la actividad\n",
        "\n",
        "\n",
        "index = pd.MultiIndex.from_tuples([\n",
        "    ('2022', 'Toyota'), ('2022', 'Ford'), ('2022', 'Honda'),\n",
        "    ('2023', 'Toyota'), ('2023', 'Ford'), ('2023', 'Honda'),\n",
        "    ('2024', 'Toyota'), ('2024', 'Ford'), ('2024', 'Honda')\n",
        "], names=['Año', 'Marca'])\n",
        "\n",
        "\n",
        "data = {\n",
        "    'Ventas': [150, 120, 130, 160, 110, 140, 170, 100, 150]\n",
        "}\n",
        "\n",
        "df = pd.DataFrame(data, index=index)\n",
        "print(df)\n",
        "\n",
        "\n",
        "\n",
        "*   Agregar Más Datos: Incluye más años y marcas para tener un conjunto de datos más amplio.\n",
        "*   Modificar el Tipo de Gráfico: Experimenta con gráficos de barras o gráficos de áreas para diferentes perspectivas sobre los datos.\n",
        "*   ***Análisis Avanzado: Realiza un análisis más detallado como el cálculo de tasas de crecimiento anual o la comparación de ventas entre marcas de vehiculos específicas.***\n",
        "\n"
      ],
      "metadata": {
        "id": "9aaGg20eW7vN"
      }
    }
  ]
}