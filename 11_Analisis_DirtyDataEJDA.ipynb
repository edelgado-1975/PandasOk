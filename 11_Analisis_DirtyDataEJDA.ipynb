{
  "cells": [
    {
      "cell_type": "markdown",
      "metadata": {
        "id": "view-in-github",
        "colab_type": "text"
      },
      "source": [
        "<a href=\"https://colab.research.google.com/github/edelgado-1975/PandasOk/blob/main/11_Analisis_DirtyDataEJDA.ipynb\" target=\"_parent\"><img src=\"https://colab.research.google.com/assets/colab-badge.svg\" alt=\"Open In Colab\"/></a>"
      ]
    },
    {
      "cell_type": "code",
      "execution_count": null,
      "id": "55b95918",
      "metadata": {
        "id": "55b95918"
      },
      "outputs": [],
      "source": [
        "import numpy as np\n",
        "import pandas as pd\n",
        "import matplotlib.pyplot as plt\n",
        "import seaborn as sns"
      ]
    },
    {
      "cell_type": "code",
      "execution_count": null,
      "id": "894d9960",
      "metadata": {
        "id": "894d9960"
      },
      "outputs": [],
      "source": [
        "pk_df = pd.read_csv('pokemon.csv',index_col=0)"
      ]
    },
    {
      "cell_type": "code",
      "execution_count": null,
      "id": "1278df62",
      "metadata": {
        "id": "1278df62"
      },
      "outputs": [],
      "source": [
        "pk_df.head()"
      ]
    },
    {
      "cell_type": "markdown",
      "id": "9e276f59",
      "metadata": {
        "id": "9e276f59"
      },
      "source": [
        "#### Problemas a atacar\n",
        "* Valores nulos\n",
        "* Error de ortografía VenusaurMega Venusaur\t= Mega Venusaur\n",
        "* IDs duplicados"
      ]
    },
    {
      "cell_type": "code",
      "execution_count": null,
      "id": "0d496e47",
      "metadata": {
        "id": "0d496e47"
      },
      "outputs": [],
      "source": [
        "pk_df.head(10)"
      ]
    },
    {
      "cell_type": "code",
      "execution_count": 1,
      "id": "c68025b5",
      "metadata": {
        "colab": {
          "base_uri": "https://localhost:8080/",
          "height": 36
        },
        "id": "c68025b5",
        "outputId": "493df655-58a8-4dfc-ccd8-4ca2d43255f9"
      },
      "outputs": [
        {
          "output_type": "execute_result",
          "data": {
            "text/plain": [
              "'\\nError de sintaxis\\nVenusaurMega Venusaur -> Mega Venusaur\\n'"
            ],
            "application/vnd.google.colaboratory.intrinsic+json": {
              "type": "string"
            }
          },
          "metadata": {},
          "execution_count": 1
        }
      ],
      "source": [
        "'''\n",
        "Error de sintaxis\n",
        "VenusaurMega Venusaur -> Mega Venusaur\n",
        "'''"
      ]
    },
    {
      "cell_type": "code",
      "execution_count": null,
      "id": "86c0cba5",
      "metadata": {
        "id": "86c0cba5"
      },
      "outputs": [],
      "source": [
        "help(str.replace)"
      ]
    },
    {
      "cell_type": "code",
      "execution_count": null,
      "id": "36f8118c",
      "metadata": {
        "id": "36f8118c"
      },
      "outputs": [],
      "source": [
        "pk_df.Name = pk_df.Name.str.replace('.*(?=Mega)','')"
      ]
    },
    {
      "cell_type": "code",
      "execution_count": null,
      "id": "737b4ab9",
      "metadata": {
        "id": "737b4ab9"
      },
      "outputs": [],
      "source": [
        "pk_df.head(10)"
      ]
    },
    {
      "cell_type": "code",
      "execution_count": null,
      "id": "9c7e42a8",
      "metadata": {
        "id": "9c7e42a8"
      },
      "outputs": [],
      "source": [
        "pk_df.columns = pk_df.columns.str.lower()"
      ]
    },
    {
      "cell_type": "code",
      "execution_count": null,
      "id": "ea7489f4",
      "metadata": {
        "id": "ea7489f4"
      },
      "outputs": [],
      "source": [
        "pk_df.columns"
      ]
    },
    {
      "cell_type": "code",
      "execution_count": null,
      "id": "133f83d4",
      "metadata": {
        "id": "133f83d4"
      },
      "outputs": [],
      "source": [
        "pk_df.columns = pk_df.columns.str.replace(' ','')"
      ]
    },
    {
      "cell_type": "code",
      "execution_count": null,
      "id": "e90b14d5",
      "metadata": {
        "id": "e90b14d5"
      },
      "outputs": [],
      "source": [
        "pk_df.columns"
      ]
    },
    {
      "cell_type": "code",
      "execution_count": null,
      "id": "0db16790",
      "metadata": {
        "id": "0db16790"
      },
      "outputs": [],
      "source": [
        "pk_df.columns = pk_df.columns.str.replace('.','_')"
      ]
    },
    {
      "cell_type": "code",
      "execution_count": null,
      "id": "ef41226f",
      "metadata": {
        "id": "ef41226f"
      },
      "outputs": [],
      "source": [
        "pk_df.sp_atk"
      ]
    },
    {
      "cell_type": "code",
      "execution_count": null,
      "id": "e5a8eb70",
      "metadata": {
        "id": "e5a8eb70"
      },
      "outputs": [],
      "source": [
        "pk_df"
      ]
    },
    {
      "cell_type": "code",
      "execution_count": null,
      "id": "0b5a846d",
      "metadata": {
        "id": "0b5a846d"
      },
      "outputs": [],
      "source": [
        "help(pk_df.set_index)"
      ]
    },
    {
      "cell_type": "code",
      "execution_count": null,
      "id": "0c518273",
      "metadata": {
        "id": "0c518273"
      },
      "outputs": [],
      "source": [
        "'''\n",
        "Si se especifica inplace=True, modifica el DataFrame original,\n",
        "de lo contrario, crea un nuevo objeto\n",
        "'''\n",
        "pk_df.set_index('name',inplace=True)"
      ]
    },
    {
      "cell_type": "code",
      "execution_count": null,
      "id": "40118129",
      "metadata": {
        "id": "40118129"
      },
      "outputs": [],
      "source": [
        "pk_df"
      ]
    },
    {
      "cell_type": "code",
      "execution_count": null,
      "id": "4017a601",
      "metadata": {
        "id": "4017a601"
      },
      "outputs": [],
      "source": [
        "pk_df.head(10)"
      ]
    },
    {
      "cell_type": "code",
      "execution_count": null,
      "id": "86183519",
      "metadata": {
        "id": "86183519"
      },
      "outputs": [],
      "source": [
        "pk_df.isna()"
      ]
    },
    {
      "cell_type": "code",
      "execution_count": null,
      "id": "7c5b9a39",
      "metadata": {
        "id": "7c5b9a39"
      },
      "outputs": [],
      "source": [
        "pk_df.isna().any()"
      ]
    },
    {
      "cell_type": "code",
      "execution_count": null,
      "id": "cb1a88d2",
      "metadata": {
        "id": "cb1a88d2"
      },
      "outputs": [],
      "source": [
        "pk_df.isna().sum()"
      ]
    },
    {
      "cell_type": "code",
      "execution_count": null,
      "id": "65bea2b2",
      "metadata": {
        "id": "65bea2b2"
      },
      "outputs": [],
      "source": [
        "'''\n",
        "Eliminar registros con valores nulos\n",
        "Axis 0: Eliminar los registors que tienen null\n",
        "Axis 1: Elimina columnas que tengan registros null\n",
        "'''\n",
        "pk_df.dropna(axis=0)"
      ]
    },
    {
      "cell_type": "code",
      "execution_count": null,
      "id": "a16f45b9",
      "metadata": {
        "id": "a16f45b9"
      },
      "outputs": [],
      "source": [
        "pk_df"
      ]
    },
    {
      "cell_type": "code",
      "execution_count": null,
      "id": "a8a2d1d0",
      "metadata": {
        "id": "a8a2d1d0"
      },
      "outputs": [],
      "source": [
        "'''\n",
        "Reemplazar valores nulos, con algún valor estático\n",
        "'''\n",
        "\n",
        "pk_df.type2 = pk_df.type2.fillna('Empty')\n",
        "\n"
      ]
    },
    {
      "cell_type": "code",
      "execution_count": null,
      "id": "e1d46ade",
      "metadata": {
        "id": "e1d46ade"
      },
      "outputs": [],
      "source": [
        "pk_df.head(10)"
      ]
    },
    {
      "cell_type": "code",
      "execution_count": null,
      "id": "0fe46cb2",
      "metadata": {
        "id": "0fe46cb2"
      },
      "outputs": [],
      "source": [
        "pk_df.isna().sum()"
      ]
    },
    {
      "cell_type": "code",
      "execution_count": null,
      "id": "dbef9a5a",
      "metadata": {
        "id": "dbef9a5a"
      },
      "outputs": [],
      "source": [
        "'''\n",
        "Eliminando columnas de dataframe\n",
        "'''\n",
        "\n",
        "pk_df.drop('type2',axis=1,inplace=True)"
      ]
    },
    {
      "cell_type": "code",
      "execution_count": null,
      "id": "3c398c47",
      "metadata": {
        "id": "3c398c47"
      },
      "outputs": [],
      "source": [
        "pk_df"
      ]
    },
    {
      "cell_type": "code",
      "execution_count": null,
      "id": "b798aa5a",
      "metadata": {
        "id": "b798aa5a"
      },
      "outputs": [],
      "source": [
        "pk_df.describe()"
      ]
    },
    {
      "cell_type": "code",
      "execution_count": null,
      "id": "37b22327",
      "metadata": {
        "id": "37b22327"
      },
      "outputs": [],
      "source": [
        "pk_df.type1.unique()"
      ]
    },
    {
      "cell_type": "code",
      "execution_count": null,
      "id": "8b6b5e79",
      "metadata": {
        "scrolled": true,
        "id": "8b6b5e79"
      },
      "outputs": [],
      "source": [
        "pk_df.type1.value_counts()"
      ]
    },
    {
      "cell_type": "code",
      "execution_count": null,
      "id": "4f0e112e",
      "metadata": {
        "id": "4f0e112e"
      },
      "outputs": [],
      "source": [
        "pk_df.type1.value_counts().keys()"
      ]
    },
    {
      "cell_type": "code",
      "execution_count": null,
      "id": "a123795a",
      "metadata": {
        "id": "a123795a"
      },
      "outputs": [],
      "source": [
        "pk_df.type1.unique()"
      ]
    },
    {
      "cell_type": "code",
      "execution_count": null,
      "id": "83c8d33b",
      "metadata": {
        "scrolled": true,
        "id": "83c8d33b"
      },
      "outputs": [],
      "source": [
        "plt.figure(figsize=(15,10))\n",
        "plt.bar(pk_df.type1.value_counts().keys(),pk_df.type1.value_counts())\n",
        "plt.show()"
      ]
    },
    {
      "cell_type": "code",
      "execution_count": null,
      "id": "fb2b7d4f",
      "metadata": {
        "id": "fb2b7d4f"
      },
      "outputs": [],
      "source": [
        "pk_df.type1"
      ]
    },
    {
      "cell_type": "code",
      "execution_count": null,
      "id": "0f1c127c",
      "metadata": {
        "id": "0f1c127c"
      },
      "outputs": [],
      "source": [
        "plt.figure(figsize=(5,5))\n",
        "sns.countplot(pk_df.type1)\n"
      ]
    },
    {
      "cell_type": "code",
      "execution_count": null,
      "id": "e4b48a13",
      "metadata": {
        "id": "e4b48a13"
      },
      "outputs": [],
      "source": []
    },
    {
      "cell_type": "markdown",
      "id": "922ce625",
      "metadata": {
        "id": "922ce625"
      },
      "source": [
        "Cuando el gráfico se ve \"apretado\" o congestionado, es probable que sea debido a la falta de espacio para mostrar todas las etiquetas o elementos de forma clara. Esto puede suceder especialmente si tienes muchas categorías en el eje x, o si el tamaño de la figura es demasiado pequeño."
      ]
    },
    {
      "cell_type": "markdown",
      "id": "7a18940e",
      "metadata": {
        "id": "7a18940e"
      },
      "source": [
        "Aquí tienes algunas maneras de mejorar la visualización del gráfico para que sea más claro:"
      ]
    },
    {
      "cell_type": "markdown",
      "id": "fdc146a9",
      "metadata": {
        "id": "fdc146a9"
      },
      "source": [
        "1. Aumentar el Tamaño de la Figura\n",
        "Puedes intentar aumentar el tamaño de la figura para dar más espacio a los elementos del gráfico:"
      ]
    },
    {
      "cell_type": "code",
      "execution_count": null,
      "id": "832029d3",
      "metadata": {
        "id": "832029d3"
      },
      "outputs": [],
      "source": [
        "plt.figure(figsize=(10, 6))  # Aumenta el tamaño de la figura\n",
        "sns.countplot(x='type1', data=pk_df)\n",
        "plt.xticks(rotation=30)  # Rota las etiquetas del eje x si es necesario\n",
        "plt.show()"
      ]
    },
    {
      "cell_type": "markdown",
      "id": "44aeae13",
      "metadata": {
        "id": "44aeae13"
      },
      "source": [
        "2. Rotar Etiquetas del Eje X\n",
        "Si las etiquetas de las categorías están muy apretadas, rotarlas puede ayudar a que sean más legibles:"
      ]
    },
    {
      "cell_type": "code",
      "execution_count": null,
      "id": "f218e819",
      "metadata": {
        "id": "f218e819"
      },
      "outputs": [],
      "source": [
        "plt.figure(figsize=(10, 6))\n",
        "sns.countplot(x='type1', data=pk_df)\n",
        "plt.xticks(rotation=45)  # Rota las etiquetas del eje x\n",
        "plt.show()\n"
      ]
    },
    {
      "cell_type": "markdown",
      "id": "d4e6ac75",
      "metadata": {
        "id": "d4e6ac75"
      },
      "source": [
        "3. Ajustar el Espaciado de las Etiquetas\n",
        "Ajustar el espaciado de las etiquetas también puede ayudar:"
      ]
    },
    {
      "cell_type": "code",
      "execution_count": null,
      "id": "99cf087d",
      "metadata": {
        "id": "99cf087d"
      },
      "outputs": [],
      "source": [
        "plt.figure(figsize=(10, 6))\n",
        "sns.countplot(x='type1', data=pk_df)\n",
        "plt.tight_layout()  # Ajusta automáticamente el espaciado\n",
        "plt.show()"
      ]
    },
    {
      "cell_type": "markdown",
      "id": "0456e4e0",
      "metadata": {
        "id": "0456e4e0"
      },
      "source": [
        "4. Reducir el Número de Categorías (si es aplicable)\n",
        "Si hay muchas categorías y el gráfico se vuelve ilegible, podrías considerar mostrar solo las más frecuentes o agrupar algunas categorías:"
      ]
    },
    {
      "cell_type": "code",
      "execution_count": null,
      "id": "9c09448a",
      "metadata": {
        "id": "9c09448a"
      },
      "outputs": [],
      "source": [
        "# Mostrar solo las categorías más frecuentes (por ejemplo, las 10 más comunes)\n",
        "top_types = pk_df['type1'].value_counts().nlargest(10).index\n",
        "filtered_df = pk_df[pk_df['type1'].isin(top_types)]\n",
        "\n",
        "plt.figure(figsize=(10, 6))\n",
        "sns.countplot(x='type1', data=filtered_df)\n",
        "plt.xticks(rotation=45)\n",
        "plt.tight_layout()\n",
        "plt.show()\n"
      ]
    },
    {
      "cell_type": "markdown",
      "id": "78ab81c9",
      "metadata": {
        "id": "78ab81c9"
      },
      "source": [
        "5. Añadir Espacios Adicionales\n",
        "Si las etiquetas son muy largas, puedes añadir espacio adicional a la figura para mejorar la legibilidad:"
      ]
    },
    {
      "cell_type": "code",
      "execution_count": null,
      "id": "85b10e0e",
      "metadata": {
        "id": "85b10e0e"
      },
      "outputs": [],
      "source": [
        "plt.figure(figsize=(12, 8))  # Aumenta el tamaño de la figura\n",
        "sns.countplot(x='type1', data=pk_df)\n",
        "plt.xticks(rotation=45)\n",
        "plt.tight_layout(pad=2.0)  # Añade espacio adicional alrededor del gráfico\n",
        "plt.show()\n"
      ]
    },
    {
      "cell_type": "markdown",
      "id": "9ef4617b",
      "metadata": {
        "id": "9ef4617b"
      },
      "source": [
        "El método df.corr() en pandas se utiliza para calcular la matriz de correlación entre las columnas numéricas de un DataFrame. La correlación mide la relación entre dos variables y puede tomar valores entre -1 y 1:\n",
        "\n",
        "1 indica una correlación positiva perfecta: cuando una variable aumenta, la otra también lo hace en la misma proporción.\n",
        "-1 indica una correlación negativa perfecta: cuando una variable aumenta, la otra disminuye en la misma proporción.\n",
        "0 indica que no hay ninguna relación lineal entre las variables."
      ]
    },
    {
      "cell_type": "code",
      "execution_count": null,
      "id": "d83a1090",
      "metadata": {
        "id": "d83a1090"
      },
      "outputs": [],
      "source": [
        "# Selecciona solo las columnas numéricas\n",
        "numeric_df = pk_df.select_dtypes(include=['number', 'bool'])\n",
        "\n",
        "# Calcula la matriz de correlación\n",
        "correlation_matrix = numeric_df.corr()\n",
        "\n",
        "# Crea el heatmap\n",
        "plt.figure(figsize=(10, 8))\n",
        "sns.heatmap(correlation_matrix, annot=True, cmap='coolwarm', fmt='.2f')\n",
        "\n",
        "# Guarda la imagen\n",
        "plt.savefig('heatmap.png')\n",
        "\n",
        "# Muestra el heatmap\n",
        "plt.show()\n"
      ]
    }
  ],
  "metadata": {
    "kernelspec": {
      "display_name": "Python 3 (ipykernel)",
      "language": "python",
      "name": "python3"
    },
    "language_info": {
      "codemirror_mode": {
        "name": "ipython",
        "version": 3
      },
      "file_extension": ".py",
      "mimetype": "text/x-python",
      "name": "python",
      "nbconvert_exporter": "python",
      "pygments_lexer": "ipython3",
      "version": "3.11.9"
    },
    "colab": {
      "provenance": [],
      "include_colab_link": true
    }
  },
  "nbformat": 4,
  "nbformat_minor": 5
}