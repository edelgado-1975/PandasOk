{
  "cells": [
    {
      "cell_type": "markdown",
      "metadata": {
        "id": "view-in-github",
        "colab_type": "text"
      },
      "source": [
        "<a href=\"https://colab.research.google.com/github/edelgado-1975/PandasOk/blob/main/Cuaderno_Matplotlib_Fundamentos.ipynb\" target=\"_parent\"><img src=\"https://colab.research.google.com/assets/colab-badge.svg\" alt=\"Open In Colab\"/></a>"
      ]
    },
    {
      "cell_type": "markdown",
      "metadata": {
        "id": "3mRh35owuoEy"
      },
      "source": [
        "INTRODUCCION A LOS GRAFICOS CON LA LIBRERIA MATPLOTLIB\n",
        "\n",
        "Gráfico de Línea, Gráfico de Área, Gráfico de Torta (Pastel), Gráfico de Caja (Boxplot)\n",
        "Gráfico de Violín, Gráfico de Barras Apiladas, Gráfico de Contorno, Gráfico de Superficie\n",
        "Gráfico de Burbuja"
      ]
    },
    {
      "cell_type": "code",
      "execution_count": null,
      "metadata": {
        "id": "I7euQ3BLuoE4"
      },
      "outputs": [],
      "source": [
        "#Instalamos Matplot\n",
        "#pip install matplotlib"
      ]
    },
    {
      "cell_type": "code",
      "execution_count": null,
      "metadata": {
        "id": "_rdK4BUmuoE7"
      },
      "outputs": [],
      "source": [
        "import matplotlib.pyplot as plt\n",
        "\n",
        "# Datos de ejemplo\n",
        "x = [1, 2, 3, 4, 5]\n",
        "y = [2, 3, 5, 7, 11]\n",
        "\n",
        "# Crear una figura y un eje\n",
        "fig, ax = plt.subplots()\n",
        "\n",
        "# Graficar los datos\n",
        "ax.plot(x, y, label='Datos de ejemplo')\n",
        "\n",
        "# Añadir etiquetas y título\n",
        "ax.set_xlabel('Eje X')\n",
        "ax.set_ylabel('Eje Y')\n",
        "ax.set_title('Gráfico de ejemplo')\n",
        "\n",
        "# Mostrar la leyenda\n",
        "ax.legend()\n",
        "\n",
        "# Mostrar el gráfico\n",
        "plt.show()\n"
      ]
    },
    {
      "cell_type": "markdown",
      "metadata": {
        "id": "68ymM_c_uoE8"
      },
      "source": [
        "Tipos de Gráficos\n",
        "Aquí hay algunos tipos comunes de gráficos que puedes hacer con matplotlib:"
      ]
    },
    {
      "cell_type": "code",
      "execution_count": null,
      "metadata": {
        "id": "ZTPtHhP7uoE9"
      },
      "outputs": [],
      "source": [
        "\"\"\"GRAFICO DE DISPERSION\"\"\"\n",
        "x = [1, 2, 3, 4, 5]\n",
        "y = [2, 3, 5, 7, 11]\n",
        "\n",
        "plt.scatter(x, y, color='red', marker='o')\n",
        "plt.xlabel('Eje X')\n",
        "plt.ylabel('Eje Y')\n",
        "plt.title('Gráfico de Dispersión')\n",
        "plt.show()"
      ]
    },
    {
      "cell_type": "code",
      "execution_count": null,
      "metadata": {
        "id": "a23tp9lCuoE-"
      },
      "outputs": [],
      "source": [
        "\"\"\"GRAFICO DE HISTOGRAMA\"\"\"\n",
        "data = [1, 2, 2, 3, 3, 3, 4, 4, 4, 4, 5]\n",
        "\n",
        "plt.hist(data, bins=5, color='blue', edgecolor='black')\n",
        "plt.xlabel('Valor')\n",
        "plt.ylabel('Frecuencia')\n",
        "plt.title('Histograma')\n",
        "plt.show()"
      ]
    },
    {
      "cell_type": "code",
      "execution_count": null,
      "metadata": {
        "id": "rSY0C1I2uoE_"
      },
      "outputs": [],
      "source": [
        "\"\"\"Gráfico de Barras Apiladas\n",
        "Propósito: Comparar la composición de categorías a lo largo de diferentes series.Permite ver tanto el total como las partes individuales.s.\"\"\"\n",
        "import matplotlib.pyplot as plt\n",
        "import numpy as np\n",
        "\n",
        "# Datos de ejemplo\n",
        "categories = ['A', 'B', 'C']\n",
        "values1 = [3, 4, 2]\n",
        "values2 = [2, 3, 5]\n",
        "\n",
        "x = np.arange(len(categories))\n",
        "\n",
        "plt.figure(figsize=(10, 6))\n",
        "plt.bar(x, values1, label='Serie 1', color='blue')\n",
        "plt.bar(x, values2, bottom=values1, label='Serie 2', color='orange')\n",
        "plt.xlabel('Categorías')\n",
        "plt.ylabel('Valores')\n",
        "plt.title('Gráfico de Barras Apiladas')\n",
        "plt.xticks(x, categories)\n",
        "plt.legend()\n",
        "plt.grid(axis='y', linestyle='--', alpha=0.7)\n",
        "plt.show()\n"
      ]
    },
    {
      "cell_type": "code",
      "execution_count": null,
      "metadata": {
        "id": "H1Dr9hQduoFA"
      },
      "outputs": [],
      "source": [
        "\"\"\"Gráfico de Barras\n",
        "Propósito: Comparar valores entre categorías.\n",
        "Es útil para visualizar cómo se distribuyen los datos en distintas categorías.\"\"\"\n",
        "import matplotlib.pyplot as plt\n",
        "\n",
        "# Datos de ejemplo\n",
        "categories = ['A', 'B', 'C', 'D']\n",
        "values = [4, 7, 1, 8]\n",
        "\n",
        "plt.figure(figsize=(10, 6))\n",
        "plt.bar(categories, values, color='skyblue', edgecolor='black')\n",
        "plt.xlabel('Categorías')\n",
        "plt.ylabel('Valores')\n",
        "plt.title('Gráfico de Barras')\n",
        "plt.grid(axis='y', linestyle='--', alpha=0.7)\n",
        "plt.show()"
      ]
    },
    {
      "cell_type": "code",
      "execution_count": null,
      "metadata": {
        "id": "N-HZ2QmPuoFB"
      },
      "outputs": [],
      "source": [
        "\n",
        "\"\"\"Gráfico de Burbuja\n",
        "El gráfico de burbuja es una extensión del gráfico de dispersión donde\n",
        "el tamaño de las burbujas indica una dimensión adicional.\"\"\"\n",
        "import matplotlib.pyplot as plt\n",
        "import numpy as np\n",
        "\n",
        "# Datos de ejemplo\n",
        "x = np.random.rand(50) * 100\n",
        "y = np.random.rand(50) * 100\n",
        "sizes = np.random.rand(50) * 1000\n",
        "\n",
        "plt.figure(figsize=(10, 6))\n",
        "plt.scatter(x, y, s=sizes, alpha=0.5, c='blue', edgecolor='w', linewidth=0.5)\n",
        "plt.xlabel('Variable X')\n",
        "plt.ylabel('Variable Y')\n",
        "plt.title('Gráfico de Burbuja')\n",
        "plt.grid(True)\n",
        "plt.show()\n"
      ]
    },
    {
      "cell_type": "markdown",
      "metadata": {
        "id": "PzR2ZyCcuoFC"
      },
      "source": [
        "Personalización\n",
        "Puedes personalizar tus gráficos de muchas maneras. Por ejemplo, puedes cambiar los colores, los estilos de línea, añadir anotaciones, y mucho más."
      ]
    },
    {
      "cell_type": "code",
      "execution_count": null,
      "metadata": {
        "id": "QVISqTH-uoFD"
      },
      "outputs": [],
      "source": [
        "\"\"\"Gráfico de Línea\n",
        "Este es uno de los tipos más comunes de gráficos para mostrar la relación entre dos variables continuas.\"\"\"\n",
        "import matplotlib.pyplot as plt\n",
        "import numpy as np\n",
        "\n",
        "# Datos de ejemplo\n",
        "x = np.linspace(0, 10, 100)\n",
        "y = np.sin(x)\n",
        "\n",
        "plt.figure(figsize=(10, 6))\n",
        "plt.plot(x, y, color='blue', marker='o', linestyle='-')\n",
        "plt.xlabel('Eje X')\n",
        "plt.ylabel('Eje Y')\n",
        "plt.title('Gráfico de Línea')\n",
        "plt.grid(True)\n",
        "plt.show()"
      ]
    },
    {
      "cell_type": "code",
      "execution_count": null,
      "metadata": {
        "id": "l4C0UcQnuoFE"
      },
      "outputs": [],
      "source": [
        "\"\"\"Gráfico de Superficie\n",
        "Los gráficos de superficie muestran una representación tridimensional de los datos.\"\"\"\n",
        "import matplotlib.pyplot as plt\n",
        "from mpl_toolkits.mplot3d import Axes3D\n",
        "import numpy as np\n",
        "\n",
        "# Datos de ejemplo\n",
        "x = np.linspace(-5, 5, 100)\n",
        "y = np.linspace(-5, 5, 100)\n",
        "X, Y = np.meshgrid(x, y)\n",
        "Z = np.sin(np.sqrt(X**2 + Y**2))\n",
        "\n",
        "fig = plt.figure(figsize=(10, 6))\n",
        "ax = fig.add_subplot(111, projection='3d')\n",
        "ax.plot_surface(X, Y, Z, cmap='viridis')\n",
        "\n",
        "ax.set_xlabel('X')\n",
        "ax.set_ylabel('Y')\n",
        "ax.set_zlabel('Z')\n",
        "ax.set_title('Gráfico de Superficie')\n",
        "\n",
        "plt.show()\n"
      ]
    },
    {
      "cell_type": "code",
      "execution_count": null,
      "metadata": {
        "id": "TV1l5NESuoFF"
      },
      "outputs": [],
      "source": [
        "\"\"\"Gráfico de Contorno\n",
        "Los gráficos de contorno muestran la forma de las líneas de nivel en un plano bidimensional.\"\"\"\n",
        "import matplotlib.pyplot as plt\n",
        "import numpy as np\n",
        "\n",
        "# Datos de ejemplo\n",
        "x = np.linspace(-3.0, 3.0, 100)\n",
        "y = np.linspace(-3.0, 3.0, 100)\n",
        "X, Y = np.meshgrid(x, y)\n",
        "Z = np.sin(np.sqrt(X**2 + Y**2))\n",
        "\n",
        "plt.figure(figsize=(10, 6))\n",
        "plt.contourf(X, Y, Z, cmap='viridis')\n",
        "plt.colorbar()\n",
        "plt.xlabel('X')\n",
        "plt.ylabel('Y')\n",
        "plt.title('Gráfico de Contorno')\n",
        "plt.show()\n"
      ]
    },
    {
      "cell_type": "code",
      "execution_count": null,
      "metadata": {
        "id": "gtCmtfH6uoFG"
      },
      "outputs": [],
      "source": [
        "\"\"\"Gráfico de Área\n",
        "Un gráfico de área es útil para mostrar la magnitud de las series a lo largo del tiempo.\"\"\"\n",
        "import matplotlib.pyplot as plt\n",
        "import numpy as np\n",
        "\n",
        "# Datos de ejemplo\n",
        "x = np.linspace(0, 10, 100)\n",
        "y = np.sin(x)\n",
        "\n",
        "plt.figure(figsize=(10, 6))\n",
        "plt.fill_between(x, y, color='skyblue', alpha=0.4)\n",
        "plt.plot(x, y, color='Slateblue', alpha=0.6, linewidth=2)\n",
        "plt.xlabel('Eje X')\n",
        "plt.ylabel('Eje Y')\n",
        "plt.title('Gráfico de Área')\n",
        "plt.grid(True)\n",
        "plt.show()"
      ]
    },
    {
      "cell_type": "code",
      "execution_count": null,
      "metadata": {
        "id": "f6nt2hpUuoFH"
      },
      "outputs": [],
      "source": [
        "\"\"\"Gráfico de Violín\n",
        "El gráfico de violín muestra la distribución de los datos a través de la densidad de probabilidad.\"\"\"\n",
        "import matplotlib.pyplot as plt\n",
        "import seaborn as sns\n",
        "import numpy as np\n",
        "\n",
        "# Datos de ejemplo\n",
        "np.random.seed(10)\n",
        "data = [np.random.normal(0, std, 100) for std in range(1, 4)]\n",
        "\n",
        "plt.figure(figsize=(10, 6))\n",
        "sns.violinplot(data=data)\n",
        "plt.xlabel('Grupos')\n",
        "plt.ylabel('Valores')\n",
        "plt.title('Gráfico de Violín')\n",
        "plt.grid(True)\n",
        "plt.show()\n"
      ]
    },
    {
      "cell_type": "code",
      "execution_count": null,
      "metadata": {
        "id": "uxU7aA_suoFH"
      },
      "outputs": [],
      "source": [
        "\"\"\"Gráfico de Torta (Pastel)\n",
        "Los gráficos de torta se utilizan para mostrar proporciones o porcentajes de un total.\"\"\"\n",
        "import matplotlib.pyplot as plt\n",
        "\n",
        "# Datos de ejemplo\n",
        "sizes = [15, 30, 45, 10]\n",
        "labels = ['Categoría A', 'Categoría B', 'Categoría C', 'Categoría D']\n",
        "colors = ['gold', 'lightcoral', 'lightskyblue', 'lightgreen']\n",
        "\n",
        "plt.figure(figsize=(8, 8))\n",
        "plt.pie(sizes, labels=labels, colors=colors, autopct='%1.1f%%', startangle=140)\n",
        "plt.title('Gráfico de Torta')\n",
        "plt.show()"
      ]
    },
    {
      "cell_type": "code",
      "execution_count": null,
      "metadata": {
        "id": "MrtLjWSGuoFI"
      },
      "outputs": [],
      "source": [
        "\"\"\"Gráfico de Caja (Boxplot)\n",
        "Los gráficos de caja son útiles para mostrar la distribución de datos y detectar outliers.\"\"\"\n",
        "\n",
        "import matplotlib.pyplot as plt\n",
        "import numpy as np\n",
        "\n",
        "# Datos de ejemplo\n",
        "np.random.seed(10)\n",
        "data = [np.random.normal(0, std, 100) for std in range(1, 4)]\n",
        "\n",
        "plt.figure(figsize=(10, 6))\n",
        "plt.boxplot(data, labels=['Grupo 1', 'Grupo 2', 'Grupo 3'])\n",
        "plt.xlabel('Grupos')\n",
        "plt.ylabel('Valores')\n",
        "plt.title('Gráfico de Caja')\n",
        "plt.grid(True)\n",
        "plt.show()"
      ]
    },
    {
      "cell_type": "code",
      "execution_count": null,
      "metadata": {
        "id": "N5BEoY2buoFJ"
      },
      "outputs": [],
      "source": [
        "\"\"\"AGREGAR ANOTACIONES\"\"\"\n",
        "\n",
        "x = [1, 2, 3, 4, 5]\n",
        "y = [2, 3, 5, 7, 11]\n",
        "\n",
        "plt.plot(x, y, marker='o')\n",
        "\n",
        "# Añadir anotación\n",
        "plt.annotate('Punto interesante', xy=(3, 5), xytext=(4, 6),\n",
        "             arrowprops=dict(facecolor='black', shrink=0.05))\n",
        "\n",
        "plt.xlabel('Eje X')\n",
        "plt.ylabel('Eje Y')\n",
        "plt.title('Gráfico con Anotación')\n",
        "plt.show()\n"
      ]
    },
    {
      "cell_type": "markdown",
      "metadata": {
        "id": "O_xF35nUuoFJ"
      },
      "source": [
        "Ahora aparte de los graficos convencionales esta libreria puede gtrabajar unos cuandos mas si quieres profundizar un poco sobre interpretacion estadistica segun tu necesidad.\n",
        "\n",
        "Gráfico de Pareto, Gráfico de Error (Error Bar), Gráfico de Escalonado (Step Plot)\n",
        "Gráfico de Matrix (Heatmap), Gráfico de Polar, Gráfico de Redes (Network Graph)\n",
        "Gráfico de Cajas de Bigotes (Boxenplot), Gráfico Radial"
      ]
    },
    {
      "cell_type": "code",
      "execution_count": null,
      "metadata": {
        "id": "o7fkXf6TuoFK"
      },
      "outputs": [],
      "source": [
        "\"\"\"Gráfico de Pareto\n",
        "Propósito: Combina un gráfico de barras y un gráfico de línea para mostrar tanto\n",
        "las magnitudes individuales como el acumulado porcentual.\"\"\"\n",
        "import matplotlib.pyplot as plt\n",
        "import numpy as np\n",
        "\n",
        "# Datos de ejemplo\n",
        "categories = ['A', 'B', 'C', 'D']\n",
        "values = [8, 5, 2, 1]\n",
        "\n",
        "# Ordenar los datos\n",
        "sorted_values = sorted(values, reverse=True)\n",
        "cumulative = np.cumsum(sorted_values) / np.sum(sorted_values) * 100\n",
        "\n",
        "fig, ax1 = plt.subplots(figsize=(10, 6))\n",
        "\n",
        "# Gráfico de barras\n",
        "ax1.bar(categories, sorted_values, color='skyblue', edgecolor='black')\n",
        "ax1.set_xlabel('Categorías')\n",
        "ax1.set_ylabel('Valores', color='skyblue')\n",
        "ax1.tick_params(axis='y', labelcolor='skyblue')\n",
        "\n",
        "# Gráfico de línea\n",
        "ax2 = ax1.twinx()  # Crear un segundo eje y\n",
        "ax2.plot(categories, cumulative, color='red', marker='o', linestyle='--')\n",
        "ax2.set_ylabel('Porcentaje Acumulado (%)', color='red')\n",
        "ax2.tick_params(axis='y', labelcolor='red')\n",
        "\n",
        "plt.title('Gráfico de Pareto')\n",
        "plt.grid(True)\n",
        "plt.show()\n"
      ]
    },
    {
      "cell_type": "code",
      "execution_count": null,
      "metadata": {
        "id": "LxvkIOZ6uoFK"
      },
      "outputs": [],
      "source": [
        "\"\"\"Gráfico de Error (Error Bar)\n",
        "Propósito: Mostrar la incertidumbre en los datos mediante barras de error que indican\n",
        "el rango de error alrededor de los puntos de datos.\"\"\"\n",
        "import matplotlib.pyplot as plt\n",
        "import numpy as np\n",
        "\n",
        "# Datos de ejemplo\n",
        "x = np.linspace(0, 10, 10)\n",
        "y = np.sin(x)\n",
        "error = 0.1 + 0.2 * np.sqrt(x)\n",
        "\n",
        "plt.figure(figsize=(10, 6))\n",
        "plt.errorbar(x, y, yerr=error, fmt='o', color='blue', ecolor='orange', capsize=5)\n",
        "plt.xlabel('X')\n",
        "plt.ylabel('Y')\n",
        "plt.title('Gráfico de Barras de Error')\n",
        "plt.grid(True)\n",
        "plt.show()\n"
      ]
    },
    {
      "cell_type": "code",
      "execution_count": null,
      "metadata": {
        "id": "EfJ-KrdsuoFL"
      },
      "outputs": [],
      "source": [
        "\"\"\"Gráfico de Escalonado (Step Plot)\n",
        "Propósito: Mostrar datos que cambian de manera discreta, a menudo usado para representar funciones\n",
        "que cambian en intervalos.\"\"\"\n",
        "import matplotlib.pyplot as plt\n",
        "import numpy as np\n",
        "\n",
        "# Datos de ejemplo\n",
        "x = np.arange(0, 10, 1)\n",
        "y = np.sin(x)\n",
        "\n",
        "plt.figure(figsize=(10, 6))\n",
        "plt.step(x, y, where='mid', color='blue')\n",
        "plt.xlabel('X')\n",
        "plt.ylabel('Y')\n",
        "plt.title('Gráfico de Escalonado')\n",
        "plt.grid(True)\n",
        "plt.show()\n"
      ]
    },
    {
      "cell_type": "code",
      "execution_count": null,
      "metadata": {
        "id": "4GAksfIBuoFM"
      },
      "outputs": [],
      "source": [
        "\"\"\"Gráfico de Matrix (Heatmap)\n",
        "Propósito: Mostrar datos en una matriz donde el color representa la magnitud de los valores.\n",
        "Utilizado para representar la densidad o el valor en una cuadrícula.\"\"\"\n",
        "import matplotlib.pyplot as plt\n",
        "import numpy as np\n",
        "\n",
        "# Datos de ejemplo\n",
        "data = np.random.rand(10, 10)\n",
        "\n",
        "plt.figure(figsize=(8, 6))\n",
        "plt.imshow(data, cmap='hot', interpolation='nearest')\n",
        "plt.colorbar(label='Intensidad')\n",
        "plt.title('Heatmap')\n",
        "plt.show()\n"
      ]
    },
    {
      "cell_type": "code",
      "execution_count": null,
      "metadata": {
        "id": "K9ULIJjkuoFM"
      },
      "outputs": [],
      "source": [
        "\"\"\"Gráfico de Polar\n",
        "Propósito: Representar datos en coordenadas polares.\n",
        "Ideal para visualizar datos que tienen una naturaleza cíclica o angular.\"\"\"\n",
        "import matplotlib.pyplot as plt\n",
        "import numpy as np\n",
        "\n",
        "# Datos de ejemplo\n",
        "theta = np.linspace(0, 2 * np.pi, 100)\n",
        "r = np.abs(np.sin(theta) * np.cos(theta))\n",
        "\n",
        "plt.figure(figsize=(8, 8))\n",
        "ax = plt.subplot(111, projection='polar')\n",
        "ax.plot(theta, r, color='blue')\n",
        "ax.fill(theta, r, color='skyblue', alpha=0.5)\n",
        "plt.title('Gráfico Polar')\n",
        "plt.show()\n"
      ]
    },
    {
      "cell_type": "code",
      "execution_count": null,
      "metadata": {
        "id": "dQco8cwwuoFN"
      },
      "outputs": [],
      "source": [
        "\"\"\"Gráfico de Redes (Network Graph)\n",
        "Propósito: Mostrar redes de nodos y conexiones. Ideal para representar grafos o redes sociales.\n",
        "\n",
        "Ejemplo (usando networkx para crear un gráfico de redes con matplotlib):\n",
        "OJO CON ESTO:  pip install networkx O !pip install networkx (Sirve para crear y analizar grafos y redes)\n",
        "\"\"\"\n",
        "\n",
        "import matplotlib.pyplot as plt\n",
        "import networkx as nx\n",
        "\n",
        "# Crear un grafo de ejemplo\n",
        "G = nx.erdos_renyi_graph(n=10, p=0.3)\n",
        "\n",
        "plt.figure(figsize=(8, 8))\n",
        "pos = nx.spring_layout(G)\n",
        "nx.draw(G, pos, with_labels=True, node_color='skyblue', node_size=500, edge_color='gray', linewidths=1, font_size=15)\n",
        "plt.title('Gráfico de Redes')\n",
        "plt.show()"
      ]
    },
    {
      "cell_type": "code",
      "execution_count": null,
      "metadata": {
        "id": "ozcwzBgduoFO"
      },
      "outputs": [],
      "source": [
        "\"\"\"Gráfico de Cajas de Bigotes (Boxenplot)\n",
        "Propósito: Una versión extendida del boxplot que muestra más detalles sobre los datos,\n",
        "como más cuartiles y más niveles de datos.\n",
        "\n",
        "Ejemplo (usando seaborn para más detalles):\"\"\"\n",
        "import seaborn as sns\n",
        "import matplotlib.pyplot as plt\n",
        "import numpy as np\n",
        "\n",
        "# Datos de ejemplo\n",
        "np.random.seed(10)\n",
        "data = np.random.normal(size=100)\n",
        "\n",
        "plt.figure(figsize=(10, 6))\n",
        "sns.boxenplot(data=data)\n",
        "plt.title('Gráfico de Cajas de Bigotes')\n",
        "plt.grid(True)\n",
        "plt.show()"
      ]
    },
    {
      "cell_type": "code",
      "execution_count": null,
      "metadata": {
        "id": "ycq00CcauoFO"
      },
      "outputs": [],
      "source": [
        "\"\"\"Gráfico de Radiales (Radial Plot)\n",
        "Propósito: Representar datos en coordenadas radiales con ángulos y distancias.\n",
        "Es útil para comparar valores en un espacio circular.\"\"\"\n",
        "import matplotlib.pyplot as plt\n",
        "import numpy as np\n",
        "\n",
        "# Datos de ejemplo\n",
        "categories = ['A', 'B', 'C', 'D', 'E']\n",
        "values = [4, 3, 2, 5, 4]\n",
        "\n",
        "# Convertir a coordenadas radiales\n",
        "angles = np.linspace(0, 2 * np.pi, len(categories), endpoint=False).tolist()\n",
        "values += values[:1]\n",
        "angles += angles[:1]\n",
        "\n",
        "plt.figure(figsize=(8, 8))\n",
        "ax = plt.subplot(111, polar=True)\n",
        "ax.fill(angles, values, color='cyan', alpha=0.5)\n",
        "ax.plot(angles, values, color='blue', linewidth=2)\n",
        "\n",
        "ax.set_yticklabels([])\n",
        "ax.set_xticks(angles[:-1])\n",
        "ax.set_xticklabels(categories)\n",
        "\n",
        "plt.title('Gráfico Radial')\n",
        "plt.show()\n"
      ]
    }
  ],
  "metadata": {
    "kernelspec": {
      "display_name": "Python 3",
      "language": "python",
      "name": "python3"
    },
    "language_info": {
      "codemirror_mode": {
        "name": "ipython",
        "version": 3
      },
      "file_extension": ".py",
      "mimetype": "text/x-python",
      "name": "python",
      "nbconvert_exporter": "python",
      "pygments_lexer": "ipython3",
      "version": "3.11.9"
    },
    "colab": {
      "provenance": [],
      "include_colab_link": true
    }
  },
  "nbformat": 4,
  "nbformat_minor": 0
}