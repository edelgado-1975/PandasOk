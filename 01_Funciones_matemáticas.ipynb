{
  "nbformat": 4,
  "nbformat_minor": 0,
  "metadata": {
    "colab": {
      "provenance": [],
      "include_colab_link": true
    },
    "kernelspec": {
      "name": "python3",
      "display_name": "Python 3"
    }
  },
  "cells": [
    {
      "cell_type": "markdown",
      "metadata": {
        "id": "view-in-github",
        "colab_type": "text"
      },
      "source": [
        "<a href=\"https://colab.research.google.com/github/edelgado-1975/PandasOk/blob/main/01_Funciones_matem%C3%A1ticas.ipynb\" target=\"_parent\"><img src=\"https://colab.research.google.com/assets/colab-badge.svg\" alt=\"Open In Colab\"/></a>"
      ]
    },
    {
      "cell_type": "markdown",
      "metadata": {
        "id": "FJjzt3Mi5vjY"
      },
      "source": [
        "# Funciones matemáticas\n",
        "\n",
        "En esta sección se estudiamoa la manera de aprender como hacer operaciones matematicas en un dataframe, tambien a realizar operaciones entre diferentes columnas de un mismo dataframe y utilizar otras funciones matematicas de otra libreria como numpy."
      ]
    },
    {
      "cell_type": "code",
      "metadata": {
        "id": "WplqP9fX5rWv",
        "colab": {
          "base_uri": "https://localhost:8080/"
        },
        "outputId": "c1d640c2-c629-4863-efce-ce33e4ed0c8a"
      },
      "source": [
        "from google.colab import drive\n",
        "drive.mount('/content/drive/')"
      ],
      "execution_count": null,
      "outputs": [
        {
          "output_type": "stream",
          "name": "stdout",
          "text": [
            "Drive already mounted at /content/drive/; to attempt to forcibly remount, call drive.mount(\"/content/drive/\", force_remount=True).\n"
          ]
        }
      ]
    },
    {
      "cell_type": "code",
      "metadata": {
        "id": "7oGM3-6V7daz",
        "colab": {
          "base_uri": "https://localhost:8080/"
        },
        "outputId": "de842a47-d81c-4f96-a7da-17b97bfec5d5"
      },
      "source": [
        "%cd '/content/drive/My Drive/Colab Notebooks/CienciaDataAplicadaEJDA'\n",
        "!ls"
      ],
      "execution_count": null,
      "outputs": [
        {
          "output_type": "stream",
          "name": "stdout",
          "text": [
            "/content/drive/My Drive/Colab Notebooks/CienciaDataAplicadaEJDA\n",
            "10_Series_de_tiempo_y_visualizacioes.ipynb\n",
            "1_Funciones_matemáticas.ipynb\n",
            "2_Multiples_indices.ipynb\n",
            "3_Variables_tipo_texto.ipynb\n",
            "4_Concatenacion_de_DataFrames.ipynb\n",
            "5_Merge_de_DataFrames.ipynb\n",
            "6_Datos_faltantes_DataFrames.ipynb\n",
            "7_Group_by.ipynb\n",
            "8_Datos_duplicados_DataFrames.ipynb\n",
            "9_Group_by_Extrayendo_valor_con_variables_categóricas.ipynb\n",
            "london_merged.csv\n"
          ]
        }
      ]
    },
    {
      "cell_type": "code",
      "metadata": {
        "id": "AjPMBX5q7zMF"
      },
      "source": [
        "import pandas as pd\n",
        "import numpy as np"
      ],
      "execution_count": null,
      "outputs": []
    },
    {
      "cell_type": "code",
      "metadata": {
        "id": "4VpqrSsm8DkG"
      },
      "source": [
        "df_lmerged = pd.read_csv('/content/drive/My Drive/Colab Notebooks/CienciaDataAplicadaEJDA/london_merged.csv')\n",
        "df_lmerged"
      ],
      "execution_count": null,
      "outputs": []
    },
    {
      "cell_type": "markdown",
      "metadata": {
        "id": "sCnXhc1t8euy"
      },
      "source": [
        "Reconocemos nuestras variables"
      ]
    },
    {
      "cell_type": "code",
      "metadata": {
        "id": "oGqSI8Ge8RF4"
      },
      "source": [
        "df_lmerged.dtypes"
      ],
      "execution_count": null,
      "outputs": []
    },
    {
      "cell_type": "code",
      "metadata": {
        "id": "Ze7WnzJf8Z_t"
      },
      "source": [
        "df_lmerged['timestamp'] = pd.to_datetime(df_lmerged['timestamp'])\n",
        "df_lmerged['timestamp']"
      ],
      "execution_count": null,
      "outputs": []
    },
    {
      "cell_type": "code",
      "metadata": {
        "id": "NwuXEZr48tDI"
      },
      "source": [
        "df_lmerged.dtypes"
      ],
      "execution_count": null,
      "outputs": []
    },
    {
      "cell_type": "markdown",
      "metadata": {
        "id": "suuU1NZD85Jk"
      },
      "source": [
        "El formato datetime podemos descomponerlo y extraer por ejemplo la hora a la cual estaba suceciendo el evento."
      ]
    },
    {
      "cell_type": "code",
      "metadata": {
        "id": "yPCujQOT8yEc"
      },
      "source": [
        "df_lmerged['hour'] = df_lmerged['timestamp'].dt.hour\n",
        "df_lmerged['hour']"
      ],
      "execution_count": null,
      "outputs": []
    },
    {
      "cell_type": "markdown",
      "metadata": {
        "id": "o1b1XczD9jG-"
      },
      "source": [
        "Lo que haremos ahora es sacar la solumna timestamp para que solo nos queden variables tipo numericas."
      ]
    },
    {
      "cell_type": "code",
      "metadata": {
        "id": "9fR2MXv_9MUj"
      },
      "source": [
        "df = df_lmerged.iloc[:,1:]\n",
        "df"
      ],
      "execution_count": null,
      "outputs": []
    },
    {
      "cell_type": "markdown",
      "metadata": {
        "id": "_tJ4gfRB9vxO"
      },
      "source": [
        "¿Que operaciones matemáticas podemos hacer sobre un dataframe numérico?"
      ]
    },
    {
      "cell_type": "markdown",
      "metadata": {
        "id": "3ob6DPsJ-XEd"
      },
      "source": [
        "Podemos elevar al cuadrado todos los elementos de una columna en especifico."
      ]
    },
    {
      "cell_type": "code",
      "metadata": {
        "id": "8D1vhDjZ-UoL"
      },
      "source": [
        "df['wind_speed']**2"
      ],
      "execution_count": null,
      "outputs": []
    },
    {
      "cell_type": "markdown",
      "metadata": {
        "id": "vJBgMYjQ-bAJ"
      },
      "source": [
        "Podemos sumarle un valor despues de haber elevado a un valor esa columna"
      ]
    },
    {
      "cell_type": "code",
      "metadata": {
        "id": "E5VbdweB-TlZ"
      },
      "source": [
        "df['wind_speed']**2 + 10"
      ],
      "execution_count": null,
      "outputs": []
    },
    {
      "cell_type": "markdown",
      "metadata": {
        "id": "onu_H0Fi-hAr"
      },
      "source": [
        "Inclusive podemos aplicarle una función seno a toda la columna y realizar todo un conjunto de operaciones."
      ]
    },
    {
      "cell_type": "code",
      "metadata": {
        "id": "kRWS9eoR9eT6"
      },
      "source": [
        "np.sin(df['wind_speed']**2) + 10"
      ],
      "execution_count": null,
      "outputs": []
    },
    {
      "cell_type": "markdown",
      "metadata": {
        "id": "TCOR8xBR-1Hc"
      },
      "source": [
        "Tambien podemos realizar operaciones entre columnas, por ejemplo podemos saber la diferencia entre la temperatura **t1** y **t2**.\n"
      ]
    },
    {
      "cell_type": "code",
      "metadata": {
        "id": "ekiDvcdg-FoP"
      },
      "source": [
        "df['t1'] - df['t2']"
      ],
      "execution_count": null,
      "outputs": []
    },
    {
      "cell_type": "markdown",
      "metadata": {
        "id": "fqI-KjJR_S7B"
      },
      "source": [
        "Puedo seleccionar datos, de 2 en 2 por ejemplo"
      ]
    },
    {
      "cell_type": "code",
      "metadata": {
        "id": "JLEyIuUy_CS-"
      },
      "source": [
        "df['t1'].iloc[::2]"
      ],
      "execution_count": null,
      "outputs": []
    },
    {
      "cell_type": "markdown",
      "metadata": {
        "id": "yy5OJ1FcGSp8"
      },
      "source": [
        "Puedo seleccionar datos, de 3 en 3 y restarle una columna completa y vemos lo que pasa:"
      ]
    },
    {
      "cell_type": "code",
      "metadata": {
        "id": "bjdAqojD_SNa"
      },
      "source": [
        "df['t1'].iloc[::3] - df['t2']"
      ],
      "execution_count": null,
      "outputs": []
    },
    {
      "cell_type": "markdown",
      "metadata": {
        "id": "TacNVIYcGiT4"
      },
      "source": [
        "Si no esta el dato se completa automaticamente con una variable nula NaN."
      ]
    },
    {
      "cell_type": "markdown",
      "metadata": {
        "id": "wzf7870hGzTO"
      },
      "source": [
        "Si ahora utilizo una función matematica para realizar la misma operación que antes, esto me da la versatilidad de rellenar los valores vacios."
      ]
    },
    {
      "cell_type": "code",
      "metadata": {
        "id": "cFPf-pGPGO7L"
      },
      "source": [
        "df['t1'].iloc[::3].sub(df['t2'], fill_value=1000)"
      ],
      "execution_count": null,
      "outputs": []
    },
    {
      "cell_type": "markdown",
      "metadata": {
        "id": "itdPzEJjHEZA"
      },
      "source": [
        "Lo que hacemos es llenar con un valor los espacios vacios de la columna t1, en este caso 1000 y luego resto la columna t2"
      ]
    },
    {
      "cell_type": "markdown",
      "metadata": {
        "id": "3JbCIki2HWuu"
      },
      "source": [
        "Podemos hacer divisiones"
      ]
    },
    {
      "cell_type": "code",
      "metadata": {
        "id": "9H939JboHELu"
      },
      "source": [
        "df['t1']/df['t2']"
      ],
      "execution_count": null,
      "outputs": []
    },
    {
      "cell_type": "markdown",
      "metadata": {
        "id": "T5olIW-cJhBv"
      },
      "source": [
        "Producto punto de un vector por el mismo."
      ]
    },
    {
      "cell_type": "code",
      "metadata": {
        "id": "du84ZIcBHBt8"
      },
      "source": [
        "df['t1'].dot(df['t1'])"
      ],
      "execution_count": null,
      "outputs": []
    },
    {
      "cell_type": "markdown",
      "metadata": {
        "id": "9YZUon4WNMB_"
      },
      "source": [
        "# Funciones más complejas y lambdas\n",
        "\n",
        "En esat sección el objetivo es aprender a usar funciones mucho mas avanzadas (creandolas) en el dataframe utilizando .apply() y lambda"
      ]
    },
    {
      "cell_type": "markdown",
      "metadata": {
        "id": "YpkcyvzOQKQy"
      },
      "source": [
        "Creamos una función simple"
      ]
    },
    {
      "cell_type": "code",
      "metadata": {
        "id": "IBrpv1LINN22"
      },
      "source": [
        "def fun_1(x):\n",
        "  y = x**2 + 1\n",
        "  return y"
      ],
      "execution_count": null,
      "outputs": []
    },
    {
      "cell_type": "markdown",
      "metadata": {
        "id": "ViNz0_O7QNJJ"
      },
      "source": [
        "La aplicamos a un numero"
      ]
    },
    {
      "cell_type": "code",
      "metadata": {
        "id": "3qDLpTHhNVp9",
        "colab": {
          "base_uri": "https://localhost:8080/"
        },
        "outputId": "0b6c7d07-af53-4ac5-b0c4-673f42169623"
      },
      "source": [
        "fun_1(10)"
      ],
      "execution_count": null,
      "outputs": [
        {
          "output_type": "execute_result",
          "data": {
            "text/plain": [
              "101"
            ]
          },
          "metadata": {},
          "execution_count": 28
        }
      ]
    },
    {
      "cell_type": "markdown",
      "metadata": {
        "id": "OeLpM1EIQOz5"
      },
      "source": [
        "La aplicamos a un array"
      ]
    },
    {
      "cell_type": "code",
      "metadata": {
        "id": "KK9__4NNNX5p",
        "colab": {
          "base_uri": "https://localhost:8080/"
        },
        "outputId": "66e4b817-c886-4fd0-9e7e-eeaba764d9a3"
      },
      "source": [
        "np.arange(-5,6)"
      ],
      "execution_count": null,
      "outputs": [
        {
          "output_type": "execute_result",
          "data": {
            "text/plain": [
              "array([-5, -4, -3, -2, -1,  0,  1,  2,  3,  4,  5])"
            ]
          },
          "metadata": {},
          "execution_count": 29
        }
      ]
    },
    {
      "cell_type": "code",
      "metadata": {
        "id": "EIYfghZuNeEv",
        "colab": {
          "base_uri": "https://localhost:8080/"
        },
        "outputId": "3c772eb0-e420-4151-c239-cf1a27e80e86"
      },
      "source": [
        "np.arange(-5,6).shape"
      ],
      "execution_count": null,
      "outputs": [
        {
          "output_type": "execute_result",
          "data": {
            "text/plain": [
              "(11,)"
            ]
          },
          "metadata": {},
          "execution_count": 30
        }
      ]
    },
    {
      "cell_type": "code",
      "metadata": {
        "id": "z1-9UTzZNgvV",
        "colab": {
          "base_uri": "https://localhost:8080/"
        },
        "outputId": "0382cf6c-23f4-419e-a8ae-408e9c7363bc"
      },
      "source": [
        "fun_1(np.arange(-5,6))"
      ],
      "execution_count": null,
      "outputs": [
        {
          "output_type": "execute_result",
          "data": {
            "text/plain": [
              "array([26, 17, 10,  5,  2,  1,  2,  5, 10, 17, 26])"
            ]
          },
          "metadata": {},
          "execution_count": 31
        }
      ]
    },
    {
      "cell_type": "markdown",
      "metadata": {
        "id": "z4T_IW5TQSBe"
      },
      "source": [
        "La aplicamos a un array del dataframe (columna)"
      ]
    },
    {
      "cell_type": "code",
      "metadata": {
        "id": "VMjfaxDfNjaQ"
      },
      "source": [
        "df['hour']"
      ],
      "execution_count": null,
      "outputs": []
    },
    {
      "cell_type": "code",
      "metadata": {
        "id": "96Pl6-wdNxcT"
      },
      "source": [
        "df['hour'].apply(fun_1)"
      ],
      "execution_count": null,
      "outputs": []
    },
    {
      "cell_type": "markdown",
      "metadata": {
        "id": "XssK1lcBQWGn"
      },
      "source": [
        "Creamos una segunda función donde tenemos parametros."
      ]
    },
    {
      "cell_type": "code",
      "metadata": {
        "id": "gImr5UaMN0Wh"
      },
      "source": [
        "def fun_2(x, a=1, b=0):\n",
        "  y = x**2 + a*x + b\n",
        "  return y"
      ],
      "execution_count": null,
      "outputs": []
    },
    {
      "cell_type": "code",
      "metadata": {
        "id": "fhtnSLrFOA0Z"
      },
      "source": [
        "fun_2(10, a=3, b=-100)"
      ],
      "execution_count": null,
      "outputs": []
    },
    {
      "cell_type": "markdown",
      "metadata": {
        "id": "BrnQ8iKOQaV_"
      },
      "source": [
        "Podemos variar estos parametros gracias a un atributo del método apply, **args**"
      ]
    },
    {
      "cell_type": "code",
      "metadata": {
        "id": "2XP7PxXsOC93"
      },
      "source": [
        "df['hour'].apply(fun_2, args=(20, -100))"
      ],
      "execution_count": null,
      "outputs": []
    },
    {
      "cell_type": "markdown",
      "metadata": {
        "id": "BF7jjDVNQil9"
      },
      "source": [
        "O directamente podemos poner el nombre del atributo de la funcion y el valor que le vamos a dar."
      ]
    },
    {
      "cell_type": "code",
      "metadata": {
        "id": "_R99EWnAOPbL"
      },
      "source": [
        "df['hour'].apply(fun_2, a=20, b=-100)"
      ],
      "execution_count": null,
      "outputs": []
    },
    {
      "cell_type": "markdown",
      "metadata": {
        "id": "omzuWi03QpLl"
      },
      "source": [
        "Podemos aplicar una función lambda para evitar hacer funciones exteriores. En este caso queremos pasar de grados celcius a kelvin, sumando a cada elemento del array el numero 273 [ver funcion LAMBDA](https://ellibrodepython.com/lambda-python)"
      ]
    },
    {
      "cell_type": "code",
      "metadata": {
        "id": "k0EgJcEvOX5U"
      },
      "source": [
        "df['t1'].apply(lambda x:x+273)"
      ],
      "execution_count": null,
      "outputs": []
    },
    {
      "cell_type": "markdown",
      "metadata": {
        "id": "D1dZYUoUQ6RU"
      },
      "source": [
        "Tambien podemos calcular la media de los array columnas."
      ]
    },
    {
      "cell_type": "code",
      "metadata": {
        "id": "1WdEMl6kOjzy"
      },
      "source": [
        "df.apply(lambda x:x.mean())"
      ],
      "execution_count": null,
      "outputs": []
    },
    {
      "cell_type": "markdown",
      "metadata": {
        "id": "r-m4Y1jlRCwa"
      },
      "source": [
        "Pero ahora si especificamos el eje columna, lo que hacemos es calcular                                              ALMA"
      ]
    },
    {
      "cell_type": "code",
      "metadata": {
        "id": "QA1e_4XOOpIl"
      },
      "source": [
        "df.apply(lambda x:x.mean(), axis=1)"
      ],
      "execution_count": null,
      "outputs": []
    },
    {
      "cell_type": "code",
      "metadata": {
        "id": "LoNuTcYeOv0F"
      },
      "source": [
        "df.apply(lambda x:x.std(), axis=1)"
      ],
      "execution_count": null,
      "outputs": []
    },
    {
      "cell_type": "code",
      "metadata": {
        "id": "8IDgE7uGOzm8"
      },
      "source": [
        "df.apply(lambda x:x['t1']-x['t2'], axis=1)"
      ],
      "execution_count": null,
      "outputs": []
    },
    {
      "cell_type": "code",
      "metadata": {
        "id": "VXdu8uKsO7MI"
      },
      "source": [
        "df.applymap(lambda x:x/1000)"
      ],
      "execution_count": null,
      "outputs": []
    },
    {
      "cell_type": "markdown",
      "source": [
        "# **Ahora pongamos a prueba algo de matematica y fuciones netamente matematicas para ver el alcance de Python y sus librerias de IA**"
      ],
      "metadata": {
        "id": "f-s30TCGUGJT"
      }
    },
    {
      "cell_type": "code",
      "source": [
        "import pandas as pd\n",
        "import numpy as np\n",
        "import matplotlib.pyplot as plt"
      ],
      "metadata": {
        "id": "VzR7MInHT_Zf"
      },
      "execution_count": null,
      "outputs": []
    },
    {
      "cell_type": "code",
      "source": [],
      "metadata": {
        "id": "IMuCfs1NVSdp"
      },
      "execution_count": null,
      "outputs": []
    },
    {
      "cell_type": "markdown",
      "source": [
        " **Crear un DataFrame con Funciones Matemáticas\n",
        "Vamos a crear un DataFrame que contenga valores para tres funciones matemáticas:**"
      ],
      "metadata": {
        "id": "833YeRqNUm82"
      }
    },
    {
      "cell_type": "markdown",
      "source": [
        "![image.png](data:image/png;base64,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)"
      ],
      "metadata": {
        "id": "qvk12P3VUV4S"
      }
    },
    {
      "cell_type": "code",
      "source": [
        "# Crear un rango de valores para x\n",
        "x = np.linspace(-10, 10, 400)\n",
        "\n",
        "# Calcular los valores para cada función\n",
        "linear = 2 * x + 1\n",
        "quadratic = x**2 - 4 * x + 4\n",
        "exponential = np.exp(x)\n",
        "\n",
        "# Crear un DataFrame\n",
        "df = pd.DataFrame({\n",
        "    'x': x,\n",
        "    'Lineal': linear,\n",
        "    'Cuadrática': quadratic,\n",
        "    'Exponencial': exponential\n",
        "})\n",
        "\n",
        "print(df)"
      ],
      "metadata": {
        "id": "iZ4fCT94Uyfg"
      },
      "execution_count": null,
      "outputs": []
    },
    {
      "cell_type": "markdown",
      "source": [
        "**Graficar las Funciones Matemáticas\n",
        "Usaremos Matplotlib para graficar las tres funciones.**"
      ],
      "metadata": {
        "id": "QjYiqf4SVHQo"
      }
    },
    {
      "cell_type": "code",
      "source": [
        "# Crear la figura y los ejes\n",
        "plt.figure(figsize=(15, 5))\n",
        "\n",
        "# Gráfico de la función lineal\n",
        "plt.subplot(1, 3, 1)\n",
        "plt.plot(df['x'], df['Lineal'], color='blue')\n",
        "plt.title('Función Lineal')\n",
        "plt.xlabel('x')\n",
        "plt.ylabel('f(x)')\n",
        "\n",
        "# Gráfico de la función cuadrática\n",
        "plt.subplot(1, 3, 2)\n",
        "plt.plot(df['x'], df['Cuadrática'], color='green')\n",
        "plt.title('Función Cuadrática')\n",
        "plt.xlabel('x')\n",
        "plt.ylabel('f(x)')\n",
        "\n",
        "# Gráfico de la función exponencial\n",
        "plt.subplot(1, 3, 3)\n",
        "plt.plot(df['x'], df['Exponencial'], color='red')\n",
        "plt.title('Función Exponencial')\n",
        "plt.xlabel('x')\n",
        "plt.ylabel('f(x)')\n",
        "\n",
        "# Ajustar el layout\n",
        "plt.tight_layout()\n",
        "plt.show()\n"
      ],
      "metadata": {
        "id": "f1EqU9-UVJwA"
      },
      "execution_count": null,
      "outputs": []
    }
  ]
}