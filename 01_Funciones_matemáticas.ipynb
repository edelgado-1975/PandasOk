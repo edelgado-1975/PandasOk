{
  "nbformat": 4,
  "nbformat_minor": 0,
  "metadata": {
    "colab": {
      "provenance": [],
      "include_colab_link": true
    },
    "kernelspec": {
      "name": "python3",
      "display_name": "Python 3"
    }
  },
  "cells": [
    {
      "cell_type": "markdown",
      "metadata": {
        "id": "view-in-github",
        "colab_type": "text"
      },
      "source": [
        "<a href=\"https://colab.research.google.com/github/edelgado-1975/PandasOk/blob/main/01_Funciones_matem%C3%A1ticas.ipynb\" target=\"_parent\"><img src=\"https://colab.research.google.com/assets/colab-badge.svg\" alt=\"Open In Colab\"/></a>"
      ]
    },
    {
      "cell_type": "markdown",
      "metadata": {
        "id": "FJjzt3Mi5vjY"
      },
      "source": [
        "# Funciones matemáticas\n",
        "\n",
        "En esta sección se estudiamoa la manera de aprender como hacer operaciones matematicas en un dataframe, tambien a realizar operaciones entre diferentes columnas de un mismo dataframe y utilizar otras funciones matematicas de otra libreria como numpy."
      ]
    },
    {
      "cell_type": "code",
      "metadata": {
        "id": "WplqP9fX5rWv",
        "colab": {
          "base_uri": "https://localhost:8080/"
        },
        "outputId": "c1d640c2-c629-4863-efce-ce33e4ed0c8a"
      },
      "source": [
        "from google.colab import drive\n",
        "drive.mount('/content/drive/')"
      ],
      "execution_count": null,
      "outputs": [
        {
          "output_type": "stream",
          "name": "stdout",
          "text": [
            "Drive already mounted at /content/drive/; to attempt to forcibly remount, call drive.mount(\"/content/drive/\", force_remount=True).\n"
          ]
        }
      ]
    },
    {
      "cell_type": "code",
      "metadata": {
        "id": "7oGM3-6V7daz",
        "colab": {
          "base_uri": "https://localhost:8080/"
        },
        "outputId": "de842a47-d81c-4f96-a7da-17b97bfec5d5"
      },
      "source": [
        "%cd '/content/drive/My Drive/Colab Notebooks/CienciaDataAplicadaEJDA'\n",
        "!ls"
      ],
      "execution_count": 2,
      "outputs": [
        {
          "output_type": "stream",
          "name": "stdout",
          "text": [
            "/content/drive/My Drive/Colab Notebooks/CienciaDataAplicadaEJDA\n",
            "10_Series_de_tiempo_y_visualizacioes.ipynb\n",
            "1_Funciones_matemáticas.ipynb\n",
            "2_Multiples_indices.ipynb\n",
            "3_Variables_tipo_texto.ipynb\n",
            "4_Concatenacion_de_DataFrames.ipynb\n",
            "5_Merge_de_DataFrames.ipynb\n",
            "6_Datos_faltantes_DataFrames.ipynb\n",
            "7_Group_by.ipynb\n",
            "8_Datos_duplicados_DataFrames.ipynb\n",
            "9_Group_by_Extrayendo_valor_con_variables_categóricas.ipynb\n",
            "london_merged.csv\n"
          ]
        }
      ]
    },
    {
      "cell_type": "code",
      "metadata": {
        "id": "AjPMBX5q7zMF"
      },
      "source": [
        "import pandas as pd\n",
        "import numpy as np"
      ],
      "execution_count": 3,
      "outputs": []
    },
    {
      "cell_type": "code",
      "metadata": {
        "id": "4VpqrSsm8DkG"
      },
      "source": [
        "df_lmerged = pd.read_csv('/content/drive/My Drive/Colab Notebooks/CienciaDataAplicadaEJDA/london_merged.csv')\n",
        "df_lmerged"
      ],
      "execution_count": null,
      "outputs": []
    },
    {
      "cell_type": "markdown",
      "metadata": {
        "id": "sCnXhc1t8euy"
      },
      "source": [
        "Reconocemos nuestras variables"
      ]
    },
    {
      "cell_type": "code",
      "metadata": {
        "id": "oGqSI8Ge8RF4"
      },
      "source": [
        "df_lmerged.dtypes"
      ],
      "execution_count": null,
      "outputs": []
    },
    {
      "cell_type": "code",
      "metadata": {
        "id": "Ze7WnzJf8Z_t"
      },
      "source": [
        "df_lmerged['timestamp'] = pd.to_datetime(df_lmerged['timestamp'])\n",
        "df_lmerged['timestamp']"
      ],
      "execution_count": null,
      "outputs": []
    },
    {
      "cell_type": "code",
      "metadata": {
        "id": "NwuXEZr48tDI"
      },
      "source": [
        "df_lmerged.dtypes"
      ],
      "execution_count": null,
      "outputs": []
    },
    {
      "cell_type": "markdown",
      "metadata": {
        "id": "suuU1NZD85Jk"
      },
      "source": [
        "El formato datetime podemos descomponerlo y extraer por ejemplo la hora a la cual estaba suceciendo el evento."
      ]
    },
    {
      "cell_type": "code",
      "metadata": {
        "id": "yPCujQOT8yEc"
      },
      "source": [
        "df_lmerged['hour'] = df_lmerged['timestamp'].dt.hour\n",
        "df_lmerged['hour']"
      ],
      "execution_count": null,
      "outputs": []
    },
    {
      "cell_type": "markdown",
      "metadata": {
        "id": "o1b1XczD9jG-"
      },
      "source": [
        "Lo que haremos ahora es sacar la solumna timestamp para que solo nos queden variables tipo numericas."
      ]
    },
    {
      "cell_type": "code",
      "metadata": {
        "id": "9fR2MXv_9MUj"
      },
      "source": [
        "df = df_lmerged.iloc[:,1:]\n",
        "df"
      ],
      "execution_count": null,
      "outputs": []
    },
    {
      "cell_type": "markdown",
      "metadata": {
        "id": "_tJ4gfRB9vxO"
      },
      "source": [
        "¿Que operaciones matemáticas podemos hacer sobre un dataframe numérico?"
      ]
    },
    {
      "cell_type": "markdown",
      "metadata": {
        "id": "3ob6DPsJ-XEd"
      },
      "source": [
        "Podemos elevar al cuadrado todos los elementos de una columna en especifico."
      ]
    },
    {
      "cell_type": "code",
      "metadata": {
        "id": "8D1vhDjZ-UoL"
      },
      "source": [
        "df['wind_speed']**2"
      ],
      "execution_count": null,
      "outputs": []
    },
    {
      "cell_type": "markdown",
      "metadata": {
        "id": "vJBgMYjQ-bAJ"
      },
      "source": [
        "Podemos sumarle un valor despues de haber elevado a un valor esa columna"
      ]
    },
    {
      "cell_type": "code",
      "metadata": {
        "id": "E5VbdweB-TlZ"
      },
      "source": [
        "df['wind_speed']**2 + 10"
      ],
      "execution_count": null,
      "outputs": []
    },
    {
      "cell_type": "markdown",
      "metadata": {
        "id": "onu_H0Fi-hAr"
      },
      "source": [
        "Inclusive podemos aplicarle una función seno a toda la columna y realizar todo un conjunto de operaciones."
      ]
    },
    {
      "cell_type": "code",
      "metadata": {
        "id": "kRWS9eoR9eT6"
      },
      "source": [
        "np.sin(df['wind_speed']**2) + 10"
      ],
      "execution_count": null,
      "outputs": []
    },
    {
      "cell_type": "markdown",
      "metadata": {
        "id": "TCOR8xBR-1Hc"
      },
      "source": [
        "Tambien podemos realizar operaciones entre columnas, por ejemplo podemos saber la diferencia entre la temperatura **t1** y **t2**.\n"
      ]
    },
    {
      "cell_type": "code",
      "metadata": {
        "id": "ekiDvcdg-FoP"
      },
      "source": [
        "df['t1'] - df['t2']"
      ],
      "execution_count": null,
      "outputs": []
    },
    {
      "cell_type": "markdown",
      "metadata": {
        "id": "fqI-KjJR_S7B"
      },
      "source": [
        "Puedo seleccionar datos, de 2 en 2 por ejemplo"
      ]
    },
    {
      "cell_type": "code",
      "metadata": {
        "id": "JLEyIuUy_CS-"
      },
      "source": [
        "df['t1'].iloc[::2]"
      ],
      "execution_count": null,
      "outputs": []
    },
    {
      "cell_type": "markdown",
      "metadata": {
        "id": "yy5OJ1FcGSp8"
      },
      "source": [
        "Puedo seleccionar datos, de 3 en 3 y restarle una columna completa y vemos lo que pasa:"
      ]
    },
    {
      "cell_type": "code",
      "metadata": {
        "id": "bjdAqojD_SNa"
      },
      "source": [
        "df['t1'].iloc[::3] - df['t2']"
      ],
      "execution_count": null,
      "outputs": []
    },
    {
      "cell_type": "markdown",
      "metadata": {
        "id": "TacNVIYcGiT4"
      },
      "source": [
        "Si no esta el dato se completa automaticamente con una variable nula NaN."
      ]
    },
    {
      "cell_type": "markdown",
      "metadata": {
        "id": "wzf7870hGzTO"
      },
      "source": [
        "Si ahora utilizo una función matematica para realizar la misma operación que antes, esto me da la versatilidad de rellenar los valores vacios."
      ]
    },
    {
      "cell_type": "code",
      "metadata": {
        "id": "cFPf-pGPGO7L"
      },
      "source": [
        "df['t1'].iloc[::3].sub(df['t2'], fill_value=1000)"
      ],
      "execution_count": null,
      "outputs": []
    },
    {
      "cell_type": "markdown",
      "metadata": {
        "id": "itdPzEJjHEZA"
      },
      "source": [
        "Lo que hacemos es llenar con un valor los espacios vacios de la columna t1, en este caso 1000 y luego resto la columna t2"
      ]
    },
    {
      "cell_type": "markdown",
      "metadata": {
        "id": "3JbCIki2HWuu"
      },
      "source": [
        "Podemos hacer divisiones"
      ]
    },
    {
      "cell_type": "code",
      "metadata": {
        "id": "9H939JboHELu"
      },
      "source": [
        "df['t1']/df['t2']"
      ],
      "execution_count": null,
      "outputs": []
    },
    {
      "cell_type": "markdown",
      "metadata": {
        "id": "T5olIW-cJhBv"
      },
      "source": [
        "Producto punto de un vector por el mismo."
      ]
    },
    {
      "cell_type": "code",
      "metadata": {
        "id": "du84ZIcBHBt8"
      },
      "source": [
        "df['t1'].dot(df['t1'])"
      ],
      "execution_count": null,
      "outputs": []
    },
    {
      "cell_type": "markdown",
      "metadata": {
        "id": "9YZUon4WNMB_"
      },
      "source": [
        "# Funciones más complejas y lambdas\n",
        "\n",
        "En esat sección el objetivo es aprender a usar funciones mucho mas avanzadas (creandolas) en el dataframe utilizando .apply() y lambda"
      ]
    },
    {
      "cell_type": "markdown",
      "metadata": {
        "id": "YpkcyvzOQKQy"
      },
      "source": [
        "Creamos una función simple"
      ]
    },
    {
      "cell_type": "code",
      "metadata": {
        "id": "IBrpv1LINN22"
      },
      "source": [
        "def fun_1(x):\n",
        "  y = x**2 + 1\n",
        "  return y"
      ],
      "execution_count": null,
      "outputs": []
    },
    {
      "cell_type": "markdown",
      "metadata": {
        "id": "ViNz0_O7QNJJ"
      },
      "source": [
        "La aplicamos a un numero"
      ]
    },
    {
      "cell_type": "code",
      "metadata": {
        "id": "3qDLpTHhNVp9",
        "colab": {
          "base_uri": "https://localhost:8080/"
        },
        "outputId": "0b6c7d07-af53-4ac5-b0c4-673f42169623"
      },
      "source": [
        "fun_1(10)"
      ],
      "execution_count": null,
      "outputs": [
        {
          "output_type": "execute_result",
          "data": {
            "text/plain": [
              "101"
            ]
          },
          "metadata": {},
          "execution_count": 28
        }
      ]
    },
    {
      "cell_type": "markdown",
      "metadata": {
        "id": "OeLpM1EIQOz5"
      },
      "source": [
        "La aplicamos a un array"
      ]
    },
    {
      "cell_type": "code",
      "metadata": {
        "id": "KK9__4NNNX5p",
        "colab": {
          "base_uri": "https://localhost:8080/"
        },
        "outputId": "66e4b817-c886-4fd0-9e7e-eeaba764d9a3"
      },
      "source": [
        "np.arange(-5,6)"
      ],
      "execution_count": null,
      "outputs": [
        {
          "output_type": "execute_result",
          "data": {
            "text/plain": [
              "array([-5, -4, -3, -2, -1,  0,  1,  2,  3,  4,  5])"
            ]
          },
          "metadata": {},
          "execution_count": 29
        }
      ]
    },
    {
      "cell_type": "code",
      "metadata": {
        "id": "EIYfghZuNeEv",
        "colab": {
          "base_uri": "https://localhost:8080/"
        },
        "outputId": "3c772eb0-e420-4151-c239-cf1a27e80e86"
      },
      "source": [
        "np.arange(-5,6).shape"
      ],
      "execution_count": null,
      "outputs": [
        {
          "output_type": "execute_result",
          "data": {
            "text/plain": [
              "(11,)"
            ]
          },
          "metadata": {},
          "execution_count": 30
        }
      ]
    },
    {
      "cell_type": "code",
      "metadata": {
        "id": "z1-9UTzZNgvV",
        "colab": {
          "base_uri": "https://localhost:8080/"
        },
        "outputId": "0382cf6c-23f4-419e-a8ae-408e9c7363bc"
      },
      "source": [
        "fun_1(np.arange(-5,6))"
      ],
      "execution_count": null,
      "outputs": [
        {
          "output_type": "execute_result",
          "data": {
            "text/plain": [
              "array([26, 17, 10,  5,  2,  1,  2,  5, 10, 17, 26])"
            ]
          },
          "metadata": {},
          "execution_count": 31
        }
      ]
    },
    {
      "cell_type": "markdown",
      "metadata": {
        "id": "z4T_IW5TQSBe"
      },
      "source": [
        "La aplicamos a un array del dataframe (columna)"
      ]
    },
    {
      "cell_type": "code",
      "metadata": {
        "id": "VMjfaxDfNjaQ"
      },
      "source": [
        "df['hour']"
      ],
      "execution_count": null,
      "outputs": []
    },
    {
      "cell_type": "code",
      "metadata": {
        "id": "96Pl6-wdNxcT"
      },
      "source": [
        "df['hour'].apply(fun_1)"
      ],
      "execution_count": null,
      "outputs": []
    },
    {
      "cell_type": "markdown",
      "metadata": {
        "id": "XssK1lcBQWGn"
      },
      "source": [
        "Creamos una segunda función donde tenemos parametros."
      ]
    },
    {
      "cell_type": "code",
      "metadata": {
        "id": "gImr5UaMN0Wh"
      },
      "source": [
        "def fun_2(x, a=1, b=0):\n",
        "  y = x**2 + a*x + b\n",
        "  return y"
      ],
      "execution_count": null,
      "outputs": []
    },
    {
      "cell_type": "code",
      "metadata": {
        "id": "fhtnSLrFOA0Z"
      },
      "source": [
        "fun_2(10, a=3, b=-100)"
      ],
      "execution_count": null,
      "outputs": []
    },
    {
      "cell_type": "markdown",
      "metadata": {
        "id": "BrnQ8iKOQaV_"
      },
      "source": [
        "Podemos variar estos parametros gracias a un atributo del método apply, **args**"
      ]
    },
    {
      "cell_type": "code",
      "metadata": {
        "id": "2XP7PxXsOC93"
      },
      "source": [
        "df['hour'].apply(fun_2, args=(20, -100))"
      ],
      "execution_count": null,
      "outputs": []
    },
    {
      "cell_type": "markdown",
      "metadata": {
        "id": "BF7jjDVNQil9"
      },
      "source": [
        "O directamente podemos poner el nombre del atributo de la funcion y el valor que le vamos a dar."
      ]
    },
    {
      "cell_type": "code",
      "metadata": {
        "id": "_R99EWnAOPbL"
      },
      "source": [
        "df['hour'].apply(fun_2, a=20, b=-100)"
      ],
      "execution_count": null,
      "outputs": []
    },
    {
      "cell_type": "markdown",
      "metadata": {
        "id": "omzuWi03QpLl"
      },
      "source": [
        "Podemos aplicar una función lambda para evitar hacer funciones exteriores. En este caso queremos pasar de grados celcius a kelvin, sumando a cada elemento del array 273"
      ]
    },
    {
      "cell_type": "code",
      "metadata": {
        "id": "k0EgJcEvOX5U"
      },
      "source": [
        "df['t1'].apply(lambda x:x+273)"
      ],
      "execution_count": null,
      "outputs": []
    },
    {
      "cell_type": "markdown",
      "metadata": {
        "id": "D1dZYUoUQ6RU"
      },
      "source": [
        "Tambien podemos calcular la media de los array columnas."
      ]
    },
    {
      "cell_type": "code",
      "metadata": {
        "id": "1WdEMl6kOjzy"
      },
      "source": [
        "df.apply(lambda x:x.mean())"
      ],
      "execution_count": null,
      "outputs": []
    },
    {
      "cell_type": "markdown",
      "metadata": {
        "id": "r-m4Y1jlRCwa"
      },
      "source": [
        "Pero ahora si especificamos el eje columna, lo que hacemos es calcular                                              ALMA"
      ]
    },
    {
      "cell_type": "code",
      "metadata": {
        "id": "QA1e_4XOOpIl"
      },
      "source": [
        "df.apply(lambda x:x.mean(), axis=1)"
      ],
      "execution_count": null,
      "outputs": []
    },
    {
      "cell_type": "code",
      "metadata": {
        "id": "LoNuTcYeOv0F"
      },
      "source": [
        "df.apply(lambda x:x.std(), axis=1)"
      ],
      "execution_count": null,
      "outputs": []
    },
    {
      "cell_type": "code",
      "metadata": {
        "id": "8IDgE7uGOzm8"
      },
      "source": [
        "df.apply(lambda x:x['t1']-x['t2'], axis=1)"
      ],
      "execution_count": null,
      "outputs": []
    },
    {
      "cell_type": "code",
      "metadata": {
        "id": "VXdu8uKsO7MI"
      },
      "source": [
        "df.applymap(lambda x:x/1000)"
      ],
      "execution_count": null,
      "outputs": []
    }
  ]
}